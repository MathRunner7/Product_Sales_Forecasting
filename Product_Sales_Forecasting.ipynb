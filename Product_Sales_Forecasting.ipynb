{
  "cells": [
    {
      "cell_type": "markdown",
      "metadata": {
        "id": "view-in-github",
        "colab_type": "text"
      },
      "source": [
        "<a href=\"https://colab.research.google.com/github/MathRunner7/Product_Sales_Forecasting/blob/main/Product_Sales_Forecasting.ipynb\" target=\"_parent\"><img src=\"https://colab.research.google.com/assets/colab-badge.svg\" alt=\"Open In Colab\"/></a>"
      ]
    },
    {
      "cell_type": "markdown",
      "metadata": {
        "id": "4O_W4JnZa0X_"
      },
      "source": [
        "# A. Problem Statement and pre-processing and EDA"
      ]
    },
    {
      "cell_type": "markdown",
      "metadata": {
        "id": "sOs-su9maxVb"
      },
      "source": [
        "## 0. Introduction"
      ]
    },
    {
      "cell_type": "markdown",
      "metadata": {
        "id": "7O2S7fvlbirh"
      },
      "source": [
        "**Purpose of this project**\n",
        "\n",
        "Need and Use of Product Sales Forecasting\n",
        "Effective sales forecasting is fundamental for multiple aspects of retail management and operation, including:\n",
        "1.\t**Inventory Management:** Accurate sales forecasts help ensure that stores maintain optimal inventory levels—enough to meet customer demand without overstocking, which can lead to increased costs or waste, especially in the case of perishable goods.\n",
        "2.\t**Financial Planning:** Forecasting sales allows businesses to estimate future revenue and manage budgets more effectively. This is crucial for allocating resources to areas such as marketing, staffing, and capital investments.\n",
        "3.\t**Marketing and Promotions:** Understanding when sales peaks and troughs are likely to occur enables retailers to plan effective marketing campaigns and promotional offers to boost revenue or manage customer flow.\n",
        "4.\t**Supply Chain Optimization:** Sales forecasts inform production schedules, logistics, and distribution plans, ensuring that products are available where and when they are needed, thereby reducing transportation and storage costs.\n",
        "5.\t**Strategic Decision Making:** Long-term sales forecasting supports broader business strategies, including store expansions, market entry, and other capital expenditures."
      ]
    },
    {
      "cell_type": "markdown",
      "metadata": {
        "id": "5mUZBxdWe8Hf"
      },
      "source": [
        "Dataset: https://drive.google.com/drive/folders/1fBQ1PlWMho3kHF9qXrD0McZNfpJIcbrn\n",
        "> Data description\n",
        "\n",
        "Sr|Column Name|Description\n",
        "--|--|--\n",
        "1\t|ID| Unique identifier for each record in the dataset.\n",
        "2\t|Store_id| Unique identifier for each store.\n",
        "3\t|Store_Type| Categorization of the store based on its type.\n",
        "4\t|Location_Type| Classification of the store's location (e.g., urban, suburban).\n",
        "5\t|Region_Code| Code representing the geographical region where the store is located.\n",
        "6\t|Date| The specific date on which the data was recorded.\n",
        "7\t|Holiday| Indicator of whether the date was a holiday (1: Yes, 0: No).\n",
        "8\t|Discount| Indicates whether a discount was offered on the given date (Yes/No).\n",
        "9\t|#Order| The number of orders received by the store on the specified day.\n",
        "10\t|Sales| Total sales amount for the store on the given day.\n"
      ]
    },
    {
      "cell_type": "markdown",
      "metadata": {
        "id": "H9yLITPAhI5e"
      },
      "source": [
        "## 1. Dataset Loading"
      ]
    },
    {
      "cell_type": "code",
      "execution_count": 71,
      "metadata": {
        "id": "F62R2Dpih7uG"
      },
      "outputs": [],
      "source": [
        "# Import Basic libraries\n",
        "import pandas as pd\n",
        "import numpy as np\n",
        "\n",
        "# Import Visualization libraries\n",
        "import plotly.graph_objs as go\n",
        "import plotly.express as px\n",
        "from plotly.subplots import make_subplots\n",
        "import matplotlib.pyplot as plt\n",
        "import seaborn as sns\n",
        "\n",
        "# Ignore warnings\n",
        "import warnings\n",
        "from langcodes import Language\n",
        "warnings.filterwarnings('ignore')\n",
        "\n",
        "# Suppress the specific ConvergenceWarning\n",
        "from statsmodels.tools.sm_exceptions import ConvergenceWarning\n",
        "warnings.simplefilter(\"ignore\", ConvergenceWarning)"
      ]
    },
    {
      "cell_type": "code",
      "execution_count": 72,
      "metadata": {
        "id": "81is0ku4lfDe"
      },
      "outputs": [],
      "source": [
        "# Read train and test .csv files into Pandas dataframe format\n",
        "train_url = 'https://drive.google.com/uc?id=1Rfz9d8m_2CGMoQYBNHhgTP9qTAlUcp2-'\n",
        "test_url = 'https://drive.google.com/uc?id=1UHRbWau_md8x0Wz9cFwGv6LZV0xJxKwj'\n",
        "train = pd.read_csv(train_url)\n",
        "test = pd.read_csv(test_url)"
      ]
    },
    {
      "cell_type": "code",
      "source": [
        "train.sample(5)"
      ],
      "metadata": {
        "colab": {
          "base_uri": "https://localhost:8080/",
          "height": 206
        },
        "id": "Q9URpzsgSQ35",
        "outputId": "32d218f0-bb78-4e2a-9e30-b73bb57cde69"
      },
      "execution_count": 73,
      "outputs": [
        {
          "output_type": "execute_result",
          "data": {
            "text/plain": [
              "              ID  Store_id Store_Type Location_Type Region_Code        Date  \\\n",
              "101351  T1101352       275         S4            L1          R1  2018-10-05   \n",
              "172214  T1172215       142         S2            L1          R3  2019-04-17   \n",
              "18408   T1018409        36         S1            L3          R4  2018-02-20   \n",
              "37661   T1037662       312         S4            L2          R1  2018-04-14   \n",
              "7081    T1007082       135         S1            L1          R4  2018-01-20   \n",
              "\n",
              "        Holiday Discount  #Order     Sales  \n",
              "101351        0       No      60  32532.00  \n",
              "172214        1      Yes      40  28075.41  \n",
              "18408         0      Yes      67  41421.00  \n",
              "37661         1       No     175  79191.84  \n",
              "7081          0       No      58  40014.00  "
            ],
            "text/html": [
              "\n",
              "  <div id=\"df-b2626d84-5c82-4ebb-991b-16a4b8b73bc3\" class=\"colab-df-container\">\n",
              "    <div>\n",
              "<style scoped>\n",
              "    .dataframe tbody tr th:only-of-type {\n",
              "        vertical-align: middle;\n",
              "    }\n",
              "\n",
              "    .dataframe tbody tr th {\n",
              "        vertical-align: top;\n",
              "    }\n",
              "\n",
              "    .dataframe thead th {\n",
              "        text-align: right;\n",
              "    }\n",
              "</style>\n",
              "<table border=\"1\" class=\"dataframe\">\n",
              "  <thead>\n",
              "    <tr style=\"text-align: right;\">\n",
              "      <th></th>\n",
              "      <th>ID</th>\n",
              "      <th>Store_id</th>\n",
              "      <th>Store_Type</th>\n",
              "      <th>Location_Type</th>\n",
              "      <th>Region_Code</th>\n",
              "      <th>Date</th>\n",
              "      <th>Holiday</th>\n",
              "      <th>Discount</th>\n",
              "      <th>#Order</th>\n",
              "      <th>Sales</th>\n",
              "    </tr>\n",
              "  </thead>\n",
              "  <tbody>\n",
              "    <tr>\n",
              "      <th>101351</th>\n",
              "      <td>T1101352</td>\n",
              "      <td>275</td>\n",
              "      <td>S4</td>\n",
              "      <td>L1</td>\n",
              "      <td>R1</td>\n",
              "      <td>2018-10-05</td>\n",
              "      <td>0</td>\n",
              "      <td>No</td>\n",
              "      <td>60</td>\n",
              "      <td>32532.00</td>\n",
              "    </tr>\n",
              "    <tr>\n",
              "      <th>172214</th>\n",
              "      <td>T1172215</td>\n",
              "      <td>142</td>\n",
              "      <td>S2</td>\n",
              "      <td>L1</td>\n",
              "      <td>R3</td>\n",
              "      <td>2019-04-17</td>\n",
              "      <td>1</td>\n",
              "      <td>Yes</td>\n",
              "      <td>40</td>\n",
              "      <td>28075.41</td>\n",
              "    </tr>\n",
              "    <tr>\n",
              "      <th>18408</th>\n",
              "      <td>T1018409</td>\n",
              "      <td>36</td>\n",
              "      <td>S1</td>\n",
              "      <td>L3</td>\n",
              "      <td>R4</td>\n",
              "      <td>2018-02-20</td>\n",
              "      <td>0</td>\n",
              "      <td>Yes</td>\n",
              "      <td>67</td>\n",
              "      <td>41421.00</td>\n",
              "    </tr>\n",
              "    <tr>\n",
              "      <th>37661</th>\n",
              "      <td>T1037662</td>\n",
              "      <td>312</td>\n",
              "      <td>S4</td>\n",
              "      <td>L2</td>\n",
              "      <td>R1</td>\n",
              "      <td>2018-04-14</td>\n",
              "      <td>1</td>\n",
              "      <td>No</td>\n",
              "      <td>175</td>\n",
              "      <td>79191.84</td>\n",
              "    </tr>\n",
              "    <tr>\n",
              "      <th>7081</th>\n",
              "      <td>T1007082</td>\n",
              "      <td>135</td>\n",
              "      <td>S1</td>\n",
              "      <td>L1</td>\n",
              "      <td>R4</td>\n",
              "      <td>2018-01-20</td>\n",
              "      <td>0</td>\n",
              "      <td>No</td>\n",
              "      <td>58</td>\n",
              "      <td>40014.00</td>\n",
              "    </tr>\n",
              "  </tbody>\n",
              "</table>\n",
              "</div>\n",
              "    <div class=\"colab-df-buttons\">\n",
              "\n",
              "  <div class=\"colab-df-container\">\n",
              "    <button class=\"colab-df-convert\" onclick=\"convertToInteractive('df-b2626d84-5c82-4ebb-991b-16a4b8b73bc3')\"\n",
              "            title=\"Convert this dataframe to an interactive table.\"\n",
              "            style=\"display:none;\">\n",
              "\n",
              "  <svg xmlns=\"http://www.w3.org/2000/svg\" height=\"24px\" viewBox=\"0 -960 960 960\">\n",
              "    <path d=\"M120-120v-720h720v720H120Zm60-500h600v-160H180v160Zm220 220h160v-160H400v160Zm0 220h160v-160H400v160ZM180-400h160v-160H180v160Zm440 0h160v-160H620v160ZM180-180h160v-160H180v160Zm440 0h160v-160H620v160Z\"/>\n",
              "  </svg>\n",
              "    </button>\n",
              "\n",
              "  <style>\n",
              "    .colab-df-container {\n",
              "      display:flex;\n",
              "      gap: 12px;\n",
              "    }\n",
              "\n",
              "    .colab-df-convert {\n",
              "      background-color: #E8F0FE;\n",
              "      border: none;\n",
              "      border-radius: 50%;\n",
              "      cursor: pointer;\n",
              "      display: none;\n",
              "      fill: #1967D2;\n",
              "      height: 32px;\n",
              "      padding: 0 0 0 0;\n",
              "      width: 32px;\n",
              "    }\n",
              "\n",
              "    .colab-df-convert:hover {\n",
              "      background-color: #E2EBFA;\n",
              "      box-shadow: 0px 1px 2px rgba(60, 64, 67, 0.3), 0px 1px 3px 1px rgba(60, 64, 67, 0.15);\n",
              "      fill: #174EA6;\n",
              "    }\n",
              "\n",
              "    .colab-df-buttons div {\n",
              "      margin-bottom: 4px;\n",
              "    }\n",
              "\n",
              "    [theme=dark] .colab-df-convert {\n",
              "      background-color: #3B4455;\n",
              "      fill: #D2E3FC;\n",
              "    }\n",
              "\n",
              "    [theme=dark] .colab-df-convert:hover {\n",
              "      background-color: #434B5C;\n",
              "      box-shadow: 0px 1px 3px 1px rgba(0, 0, 0, 0.15);\n",
              "      filter: drop-shadow(0px 1px 2px rgba(0, 0, 0, 0.3));\n",
              "      fill: #FFFFFF;\n",
              "    }\n",
              "  </style>\n",
              "\n",
              "    <script>\n",
              "      const buttonEl =\n",
              "        document.querySelector('#df-b2626d84-5c82-4ebb-991b-16a4b8b73bc3 button.colab-df-convert');\n",
              "      buttonEl.style.display =\n",
              "        google.colab.kernel.accessAllowed ? 'block' : 'none';\n",
              "\n",
              "      async function convertToInteractive(key) {\n",
              "        const element = document.querySelector('#df-b2626d84-5c82-4ebb-991b-16a4b8b73bc3');\n",
              "        const dataTable =\n",
              "          await google.colab.kernel.invokeFunction('convertToInteractive',\n",
              "                                                    [key], {});\n",
              "        if (!dataTable) return;\n",
              "\n",
              "        const docLinkHtml = 'Like what you see? Visit the ' +\n",
              "          '<a target=\"_blank\" href=https://colab.research.google.com/notebooks/data_table.ipynb>data table notebook</a>'\n",
              "          + ' to learn more about interactive tables.';\n",
              "        element.innerHTML = '';\n",
              "        dataTable['output_type'] = 'display_data';\n",
              "        await google.colab.output.renderOutput(dataTable, element);\n",
              "        const docLink = document.createElement('div');\n",
              "        docLink.innerHTML = docLinkHtml;\n",
              "        element.appendChild(docLink);\n",
              "      }\n",
              "    </script>\n",
              "  </div>\n",
              "\n",
              "\n",
              "<div id=\"df-1e16583c-e69f-4afa-b9dc-387e21be2196\">\n",
              "  <button class=\"colab-df-quickchart\" onclick=\"quickchart('df-1e16583c-e69f-4afa-b9dc-387e21be2196')\"\n",
              "            title=\"Suggest charts\"\n",
              "            style=\"display:none;\">\n",
              "\n",
              "<svg xmlns=\"http://www.w3.org/2000/svg\" height=\"24px\"viewBox=\"0 0 24 24\"\n",
              "     width=\"24px\">\n",
              "    <g>\n",
              "        <path d=\"M19 3H5c-1.1 0-2 .9-2 2v14c0 1.1.9 2 2 2h14c1.1 0 2-.9 2-2V5c0-1.1-.9-2-2-2zM9 17H7v-7h2v7zm4 0h-2V7h2v10zm4 0h-2v-4h2v4z\"/>\n",
              "    </g>\n",
              "</svg>\n",
              "  </button>\n",
              "\n",
              "<style>\n",
              "  .colab-df-quickchart {\n",
              "      --bg-color: #E8F0FE;\n",
              "      --fill-color: #1967D2;\n",
              "      --hover-bg-color: #E2EBFA;\n",
              "      --hover-fill-color: #174EA6;\n",
              "      --disabled-fill-color: #AAA;\n",
              "      --disabled-bg-color: #DDD;\n",
              "  }\n",
              "\n",
              "  [theme=dark] .colab-df-quickchart {\n",
              "      --bg-color: #3B4455;\n",
              "      --fill-color: #D2E3FC;\n",
              "      --hover-bg-color: #434B5C;\n",
              "      --hover-fill-color: #FFFFFF;\n",
              "      --disabled-bg-color: #3B4455;\n",
              "      --disabled-fill-color: #666;\n",
              "  }\n",
              "\n",
              "  .colab-df-quickchart {\n",
              "    background-color: var(--bg-color);\n",
              "    border: none;\n",
              "    border-radius: 50%;\n",
              "    cursor: pointer;\n",
              "    display: none;\n",
              "    fill: var(--fill-color);\n",
              "    height: 32px;\n",
              "    padding: 0;\n",
              "    width: 32px;\n",
              "  }\n",
              "\n",
              "  .colab-df-quickchart:hover {\n",
              "    background-color: var(--hover-bg-color);\n",
              "    box-shadow: 0 1px 2px rgba(60, 64, 67, 0.3), 0 1px 3px 1px rgba(60, 64, 67, 0.15);\n",
              "    fill: var(--button-hover-fill-color);\n",
              "  }\n",
              "\n",
              "  .colab-df-quickchart-complete:disabled,\n",
              "  .colab-df-quickchart-complete:disabled:hover {\n",
              "    background-color: var(--disabled-bg-color);\n",
              "    fill: var(--disabled-fill-color);\n",
              "    box-shadow: none;\n",
              "  }\n",
              "\n",
              "  .colab-df-spinner {\n",
              "    border: 2px solid var(--fill-color);\n",
              "    border-color: transparent;\n",
              "    border-bottom-color: var(--fill-color);\n",
              "    animation:\n",
              "      spin 1s steps(1) infinite;\n",
              "  }\n",
              "\n",
              "  @keyframes spin {\n",
              "    0% {\n",
              "      border-color: transparent;\n",
              "      border-bottom-color: var(--fill-color);\n",
              "      border-left-color: var(--fill-color);\n",
              "    }\n",
              "    20% {\n",
              "      border-color: transparent;\n",
              "      border-left-color: var(--fill-color);\n",
              "      border-top-color: var(--fill-color);\n",
              "    }\n",
              "    30% {\n",
              "      border-color: transparent;\n",
              "      border-left-color: var(--fill-color);\n",
              "      border-top-color: var(--fill-color);\n",
              "      border-right-color: var(--fill-color);\n",
              "    }\n",
              "    40% {\n",
              "      border-color: transparent;\n",
              "      border-right-color: var(--fill-color);\n",
              "      border-top-color: var(--fill-color);\n",
              "    }\n",
              "    60% {\n",
              "      border-color: transparent;\n",
              "      border-right-color: var(--fill-color);\n",
              "    }\n",
              "    80% {\n",
              "      border-color: transparent;\n",
              "      border-right-color: var(--fill-color);\n",
              "      border-bottom-color: var(--fill-color);\n",
              "    }\n",
              "    90% {\n",
              "      border-color: transparent;\n",
              "      border-bottom-color: var(--fill-color);\n",
              "    }\n",
              "  }\n",
              "</style>\n",
              "\n",
              "  <script>\n",
              "    async function quickchart(key) {\n",
              "      const quickchartButtonEl =\n",
              "        document.querySelector('#' + key + ' button');\n",
              "      quickchartButtonEl.disabled = true;  // To prevent multiple clicks.\n",
              "      quickchartButtonEl.classList.add('colab-df-spinner');\n",
              "      try {\n",
              "        const charts = await google.colab.kernel.invokeFunction(\n",
              "            'suggestCharts', [key], {});\n",
              "      } catch (error) {\n",
              "        console.error('Error during call to suggestCharts:', error);\n",
              "      }\n",
              "      quickchartButtonEl.classList.remove('colab-df-spinner');\n",
              "      quickchartButtonEl.classList.add('colab-df-quickchart-complete');\n",
              "    }\n",
              "    (() => {\n",
              "      let quickchartButtonEl =\n",
              "        document.querySelector('#df-1e16583c-e69f-4afa-b9dc-387e21be2196 button');\n",
              "      quickchartButtonEl.style.display =\n",
              "        google.colab.kernel.accessAllowed ? 'block' : 'none';\n",
              "    })();\n",
              "  </script>\n",
              "</div>\n",
              "\n",
              "    </div>\n",
              "  </div>\n"
            ],
            "application/vnd.google.colaboratory.intrinsic+json": {
              "type": "dataframe",
              "repr_error": "0"
            }
          },
          "metadata": {},
          "execution_count": 73
        }
      ]
    },
    {
      "cell_type": "code",
      "source": [
        "test.sample(5)"
      ],
      "metadata": {
        "colab": {
          "base_uri": "https://localhost:8080/",
          "height": 206
        },
        "id": "mdNUHe2ESSnA",
        "outputId": "4bce6f18-a1ad-4d31-d27a-c5b0967fde7f"
      },
      "execution_count": 74,
      "outputs": [
        {
          "output_type": "execute_result",
          "data": {
            "text/plain": [
              "             ID  Store_id Store_Type Location_Type Region_Code        Date  \\\n",
              "14168  T1202509        71         S2            L5          R1  2019-07-09   \n",
              "19907  T1208248         5         S1            L1          R3  2019-07-25   \n",
              "15901  T1204242       104         S1            L1          R2  2019-07-14   \n",
              "3632   T1191973        67         S2            L5          R1  2019-06-10   \n",
              "9301   T1197642       337         S4            L2          R1  2019-06-26   \n",
              "\n",
              "       Holiday Discount  \n",
              "14168        0      Yes  \n",
              "19907        0      Yes  \n",
              "15901        0       No  \n",
              "3632         0      Yes  \n",
              "9301         0      Yes  "
            ],
            "text/html": [
              "\n",
              "  <div id=\"df-246eff3d-d230-47e1-a1f4-133fcda48de0\" class=\"colab-df-container\">\n",
              "    <div>\n",
              "<style scoped>\n",
              "    .dataframe tbody tr th:only-of-type {\n",
              "        vertical-align: middle;\n",
              "    }\n",
              "\n",
              "    .dataframe tbody tr th {\n",
              "        vertical-align: top;\n",
              "    }\n",
              "\n",
              "    .dataframe thead th {\n",
              "        text-align: right;\n",
              "    }\n",
              "</style>\n",
              "<table border=\"1\" class=\"dataframe\">\n",
              "  <thead>\n",
              "    <tr style=\"text-align: right;\">\n",
              "      <th></th>\n",
              "      <th>ID</th>\n",
              "      <th>Store_id</th>\n",
              "      <th>Store_Type</th>\n",
              "      <th>Location_Type</th>\n",
              "      <th>Region_Code</th>\n",
              "      <th>Date</th>\n",
              "      <th>Holiday</th>\n",
              "      <th>Discount</th>\n",
              "    </tr>\n",
              "  </thead>\n",
              "  <tbody>\n",
              "    <tr>\n",
              "      <th>14168</th>\n",
              "      <td>T1202509</td>\n",
              "      <td>71</td>\n",
              "      <td>S2</td>\n",
              "      <td>L5</td>\n",
              "      <td>R1</td>\n",
              "      <td>2019-07-09</td>\n",
              "      <td>0</td>\n",
              "      <td>Yes</td>\n",
              "    </tr>\n",
              "    <tr>\n",
              "      <th>19907</th>\n",
              "      <td>T1208248</td>\n",
              "      <td>5</td>\n",
              "      <td>S1</td>\n",
              "      <td>L1</td>\n",
              "      <td>R3</td>\n",
              "      <td>2019-07-25</td>\n",
              "      <td>0</td>\n",
              "      <td>Yes</td>\n",
              "    </tr>\n",
              "    <tr>\n",
              "      <th>15901</th>\n",
              "      <td>T1204242</td>\n",
              "      <td>104</td>\n",
              "      <td>S1</td>\n",
              "      <td>L1</td>\n",
              "      <td>R2</td>\n",
              "      <td>2019-07-14</td>\n",
              "      <td>0</td>\n",
              "      <td>No</td>\n",
              "    </tr>\n",
              "    <tr>\n",
              "      <th>3632</th>\n",
              "      <td>T1191973</td>\n",
              "      <td>67</td>\n",
              "      <td>S2</td>\n",
              "      <td>L5</td>\n",
              "      <td>R1</td>\n",
              "      <td>2019-06-10</td>\n",
              "      <td>0</td>\n",
              "      <td>Yes</td>\n",
              "    </tr>\n",
              "    <tr>\n",
              "      <th>9301</th>\n",
              "      <td>T1197642</td>\n",
              "      <td>337</td>\n",
              "      <td>S4</td>\n",
              "      <td>L2</td>\n",
              "      <td>R1</td>\n",
              "      <td>2019-06-26</td>\n",
              "      <td>0</td>\n",
              "      <td>Yes</td>\n",
              "    </tr>\n",
              "  </tbody>\n",
              "</table>\n",
              "</div>\n",
              "    <div class=\"colab-df-buttons\">\n",
              "\n",
              "  <div class=\"colab-df-container\">\n",
              "    <button class=\"colab-df-convert\" onclick=\"convertToInteractive('df-246eff3d-d230-47e1-a1f4-133fcda48de0')\"\n",
              "            title=\"Convert this dataframe to an interactive table.\"\n",
              "            style=\"display:none;\">\n",
              "\n",
              "  <svg xmlns=\"http://www.w3.org/2000/svg\" height=\"24px\" viewBox=\"0 -960 960 960\">\n",
              "    <path d=\"M120-120v-720h720v720H120Zm60-500h600v-160H180v160Zm220 220h160v-160H400v160Zm0 220h160v-160H400v160ZM180-400h160v-160H180v160Zm440 0h160v-160H620v160ZM180-180h160v-160H180v160Zm440 0h160v-160H620v160Z\"/>\n",
              "  </svg>\n",
              "    </button>\n",
              "\n",
              "  <style>\n",
              "    .colab-df-container {\n",
              "      display:flex;\n",
              "      gap: 12px;\n",
              "    }\n",
              "\n",
              "    .colab-df-convert {\n",
              "      background-color: #E8F0FE;\n",
              "      border: none;\n",
              "      border-radius: 50%;\n",
              "      cursor: pointer;\n",
              "      display: none;\n",
              "      fill: #1967D2;\n",
              "      height: 32px;\n",
              "      padding: 0 0 0 0;\n",
              "      width: 32px;\n",
              "    }\n",
              "\n",
              "    .colab-df-convert:hover {\n",
              "      background-color: #E2EBFA;\n",
              "      box-shadow: 0px 1px 2px rgba(60, 64, 67, 0.3), 0px 1px 3px 1px rgba(60, 64, 67, 0.15);\n",
              "      fill: #174EA6;\n",
              "    }\n",
              "\n",
              "    .colab-df-buttons div {\n",
              "      margin-bottom: 4px;\n",
              "    }\n",
              "\n",
              "    [theme=dark] .colab-df-convert {\n",
              "      background-color: #3B4455;\n",
              "      fill: #D2E3FC;\n",
              "    }\n",
              "\n",
              "    [theme=dark] .colab-df-convert:hover {\n",
              "      background-color: #434B5C;\n",
              "      box-shadow: 0px 1px 3px 1px rgba(0, 0, 0, 0.15);\n",
              "      filter: drop-shadow(0px 1px 2px rgba(0, 0, 0, 0.3));\n",
              "      fill: #FFFFFF;\n",
              "    }\n",
              "  </style>\n",
              "\n",
              "    <script>\n",
              "      const buttonEl =\n",
              "        document.querySelector('#df-246eff3d-d230-47e1-a1f4-133fcda48de0 button.colab-df-convert');\n",
              "      buttonEl.style.display =\n",
              "        google.colab.kernel.accessAllowed ? 'block' : 'none';\n",
              "\n",
              "      async function convertToInteractive(key) {\n",
              "        const element = document.querySelector('#df-246eff3d-d230-47e1-a1f4-133fcda48de0');\n",
              "        const dataTable =\n",
              "          await google.colab.kernel.invokeFunction('convertToInteractive',\n",
              "                                                    [key], {});\n",
              "        if (!dataTable) return;\n",
              "\n",
              "        const docLinkHtml = 'Like what you see? Visit the ' +\n",
              "          '<a target=\"_blank\" href=https://colab.research.google.com/notebooks/data_table.ipynb>data table notebook</a>'\n",
              "          + ' to learn more about interactive tables.';\n",
              "        element.innerHTML = '';\n",
              "        dataTable['output_type'] = 'display_data';\n",
              "        await google.colab.output.renderOutput(dataTable, element);\n",
              "        const docLink = document.createElement('div');\n",
              "        docLink.innerHTML = docLinkHtml;\n",
              "        element.appendChild(docLink);\n",
              "      }\n",
              "    </script>\n",
              "  </div>\n",
              "\n",
              "\n",
              "<div id=\"df-1dbefe57-ab6f-4205-8ea2-6d4eb27588af\">\n",
              "  <button class=\"colab-df-quickchart\" onclick=\"quickchart('df-1dbefe57-ab6f-4205-8ea2-6d4eb27588af')\"\n",
              "            title=\"Suggest charts\"\n",
              "            style=\"display:none;\">\n",
              "\n",
              "<svg xmlns=\"http://www.w3.org/2000/svg\" height=\"24px\"viewBox=\"0 0 24 24\"\n",
              "     width=\"24px\">\n",
              "    <g>\n",
              "        <path d=\"M19 3H5c-1.1 0-2 .9-2 2v14c0 1.1.9 2 2 2h14c1.1 0 2-.9 2-2V5c0-1.1-.9-2-2-2zM9 17H7v-7h2v7zm4 0h-2V7h2v10zm4 0h-2v-4h2v4z\"/>\n",
              "    </g>\n",
              "</svg>\n",
              "  </button>\n",
              "\n",
              "<style>\n",
              "  .colab-df-quickchart {\n",
              "      --bg-color: #E8F0FE;\n",
              "      --fill-color: #1967D2;\n",
              "      --hover-bg-color: #E2EBFA;\n",
              "      --hover-fill-color: #174EA6;\n",
              "      --disabled-fill-color: #AAA;\n",
              "      --disabled-bg-color: #DDD;\n",
              "  }\n",
              "\n",
              "  [theme=dark] .colab-df-quickchart {\n",
              "      --bg-color: #3B4455;\n",
              "      --fill-color: #D2E3FC;\n",
              "      --hover-bg-color: #434B5C;\n",
              "      --hover-fill-color: #FFFFFF;\n",
              "      --disabled-bg-color: #3B4455;\n",
              "      --disabled-fill-color: #666;\n",
              "  }\n",
              "\n",
              "  .colab-df-quickchart {\n",
              "    background-color: var(--bg-color);\n",
              "    border: none;\n",
              "    border-radius: 50%;\n",
              "    cursor: pointer;\n",
              "    display: none;\n",
              "    fill: var(--fill-color);\n",
              "    height: 32px;\n",
              "    padding: 0;\n",
              "    width: 32px;\n",
              "  }\n",
              "\n",
              "  .colab-df-quickchart:hover {\n",
              "    background-color: var(--hover-bg-color);\n",
              "    box-shadow: 0 1px 2px rgba(60, 64, 67, 0.3), 0 1px 3px 1px rgba(60, 64, 67, 0.15);\n",
              "    fill: var(--button-hover-fill-color);\n",
              "  }\n",
              "\n",
              "  .colab-df-quickchart-complete:disabled,\n",
              "  .colab-df-quickchart-complete:disabled:hover {\n",
              "    background-color: var(--disabled-bg-color);\n",
              "    fill: var(--disabled-fill-color);\n",
              "    box-shadow: none;\n",
              "  }\n",
              "\n",
              "  .colab-df-spinner {\n",
              "    border: 2px solid var(--fill-color);\n",
              "    border-color: transparent;\n",
              "    border-bottom-color: var(--fill-color);\n",
              "    animation:\n",
              "      spin 1s steps(1) infinite;\n",
              "  }\n",
              "\n",
              "  @keyframes spin {\n",
              "    0% {\n",
              "      border-color: transparent;\n",
              "      border-bottom-color: var(--fill-color);\n",
              "      border-left-color: var(--fill-color);\n",
              "    }\n",
              "    20% {\n",
              "      border-color: transparent;\n",
              "      border-left-color: var(--fill-color);\n",
              "      border-top-color: var(--fill-color);\n",
              "    }\n",
              "    30% {\n",
              "      border-color: transparent;\n",
              "      border-left-color: var(--fill-color);\n",
              "      border-top-color: var(--fill-color);\n",
              "      border-right-color: var(--fill-color);\n",
              "    }\n",
              "    40% {\n",
              "      border-color: transparent;\n",
              "      border-right-color: var(--fill-color);\n",
              "      border-top-color: var(--fill-color);\n",
              "    }\n",
              "    60% {\n",
              "      border-color: transparent;\n",
              "      border-right-color: var(--fill-color);\n",
              "    }\n",
              "    80% {\n",
              "      border-color: transparent;\n",
              "      border-right-color: var(--fill-color);\n",
              "      border-bottom-color: var(--fill-color);\n",
              "    }\n",
              "    90% {\n",
              "      border-color: transparent;\n",
              "      border-bottom-color: var(--fill-color);\n",
              "    }\n",
              "  }\n",
              "</style>\n",
              "\n",
              "  <script>\n",
              "    async function quickchart(key) {\n",
              "      const quickchartButtonEl =\n",
              "        document.querySelector('#' + key + ' button');\n",
              "      quickchartButtonEl.disabled = true;  // To prevent multiple clicks.\n",
              "      quickchartButtonEl.classList.add('colab-df-spinner');\n",
              "      try {\n",
              "        const charts = await google.colab.kernel.invokeFunction(\n",
              "            'suggestCharts', [key], {});\n",
              "      } catch (error) {\n",
              "        console.error('Error during call to suggestCharts:', error);\n",
              "      }\n",
              "      quickchartButtonEl.classList.remove('colab-df-spinner');\n",
              "      quickchartButtonEl.classList.add('colab-df-quickchart-complete');\n",
              "    }\n",
              "    (() => {\n",
              "      let quickchartButtonEl =\n",
              "        document.querySelector('#df-1dbefe57-ab6f-4205-8ea2-6d4eb27588af button');\n",
              "      quickchartButtonEl.style.display =\n",
              "        google.colab.kernel.accessAllowed ? 'block' : 'none';\n",
              "    })();\n",
              "  </script>\n",
              "</div>\n",
              "\n",
              "    </div>\n",
              "  </div>\n"
            ],
            "application/vnd.google.colaboratory.intrinsic+json": {
              "type": "dataframe",
              "repr_error": "0"
            }
          },
          "metadata": {},
          "execution_count": 74
        }
      ]
    },
    {
      "cell_type": "markdown",
      "metadata": {
        "id": "6EBgMq_Mh35m"
      },
      "source": [
        "## 2. Observations on Data"
      ]
    },
    {
      "cell_type": "code",
      "source": [
        "train.info()"
      ],
      "metadata": {
        "colab": {
          "base_uri": "https://localhost:8080/"
        },
        "id": "vIR3XWFCpHFg",
        "outputId": "53187fe1-d485-44af-cc07-59d852c9d540"
      },
      "execution_count": 75,
      "outputs": [
        {
          "output_type": "stream",
          "name": "stdout",
          "text": [
            "<class 'pandas.core.frame.DataFrame'>\n",
            "RangeIndex: 188340 entries, 0 to 188339\n",
            "Data columns (total 10 columns):\n",
            " #   Column         Non-Null Count   Dtype  \n",
            "---  ------         --------------   -----  \n",
            " 0   ID             188340 non-null  object \n",
            " 1   Store_id       188340 non-null  int64  \n",
            " 2   Store_Type     188340 non-null  object \n",
            " 3   Location_Type  188340 non-null  object \n",
            " 4   Region_Code    188340 non-null  object \n",
            " 5   Date           188340 non-null  object \n",
            " 6   Holiday        188340 non-null  int64  \n",
            " 7   Discount       188340 non-null  object \n",
            " 8   #Order         188340 non-null  int64  \n",
            " 9   Sales          188340 non-null  float64\n",
            "dtypes: float64(1), int64(3), object(6)\n",
            "memory usage: 14.4+ MB\n"
          ]
        }
      ]
    },
    {
      "cell_type": "code",
      "execution_count": 76,
      "metadata": {
        "id": "GIE4JxnimSAG",
        "colab": {
          "base_uri": "https://localhost:8080/"
        },
        "outputId": "ce1549a7-cb7b-42a0-a1ee-5c3a074314ba"
      },
      "outputs": [
        {
          "output_type": "stream",
          "name": "stdout",
          "text": [
            "<class 'pandas.core.frame.DataFrame'>\n",
            "RangeIndex: 22265 entries, 0 to 22264\n",
            "Data columns (total 8 columns):\n",
            " #   Column         Non-Null Count  Dtype \n",
            "---  ------         --------------  ----- \n",
            " 0   ID             22265 non-null  object\n",
            " 1   Store_id       22265 non-null  int64 \n",
            " 2   Store_Type     22265 non-null  object\n",
            " 3   Location_Type  22265 non-null  object\n",
            " 4   Region_Code    22265 non-null  object\n",
            " 5   Date           22265 non-null  object\n",
            " 6   Holiday        22265 non-null  int64 \n",
            " 7   Discount       22265 non-null  object\n",
            "dtypes: int64(2), object(6)\n",
            "memory usage: 1.4+ MB\n"
          ]
        }
      ],
      "source": [
        "test.info()"
      ]
    },
    {
      "cell_type": "code",
      "source": [
        "train.Date = pd.to_datetime(train.Date)\n",
        "test.Date = pd.to_datetime(test.Date)"
      ],
      "metadata": {
        "id": "T28tvqW7rvDl"
      },
      "execution_count": 77,
      "outputs": []
    },
    {
      "cell_type": "code",
      "execution_count": 78,
      "metadata": {
        "id": "nkgeTVapmUfA",
        "colab": {
          "base_uri": "https://localhost:8080/",
          "height": 206
        },
        "outputId": "612fc8c9-9019-4165-ea08-7106964f083f"
      },
      "outputs": [
        {
          "output_type": "execute_result",
          "data": {
            "text/plain": [
              "             count                           mean                  min  \\\n",
              "Store_id  188340.0                          183.0                  1.0   \n",
              "Date        188340  2018-09-15 12:00:00.000000256  2018-01-01 00:00:00   \n",
              "Holiday   188340.0                       0.131783                  0.0   \n",
              "#Order    188340.0                      68.205692                  0.0   \n",
              "Sales     188340.0                   42784.327982                  0.0   \n",
              "\n",
              "                          25%                  50%                  75%  \\\n",
              "Store_id                 92.0                183.0                274.0   \n",
              "Date      2018-05-09 18:00:00  2018-09-15 12:00:00  2019-01-22 06:00:00   \n",
              "Holiday                   0.0                  0.0                  0.0   \n",
              "#Order                   48.0                 63.0                 82.0   \n",
              "Sales                 30426.0              39678.0              51909.0   \n",
              "\n",
              "                          max           std  \n",
              "Store_id                365.0    105.366308  \n",
              "Date      2019-05-31 00:00:00           NaN  \n",
              "Holiday                   1.0      0.338256  \n",
              "#Order                  371.0     30.467415  \n",
              "Sales                247215.0  18456.708302  "
            ],
            "text/html": [
              "\n",
              "  <div id=\"df-93b85044-3004-4393-ae50-0fae50431737\" class=\"colab-df-container\">\n",
              "    <div>\n",
              "<style scoped>\n",
              "    .dataframe tbody tr th:only-of-type {\n",
              "        vertical-align: middle;\n",
              "    }\n",
              "\n",
              "    .dataframe tbody tr th {\n",
              "        vertical-align: top;\n",
              "    }\n",
              "\n",
              "    .dataframe thead th {\n",
              "        text-align: right;\n",
              "    }\n",
              "</style>\n",
              "<table border=\"1\" class=\"dataframe\">\n",
              "  <thead>\n",
              "    <tr style=\"text-align: right;\">\n",
              "      <th></th>\n",
              "      <th>count</th>\n",
              "      <th>mean</th>\n",
              "      <th>min</th>\n",
              "      <th>25%</th>\n",
              "      <th>50%</th>\n",
              "      <th>75%</th>\n",
              "      <th>max</th>\n",
              "      <th>std</th>\n",
              "    </tr>\n",
              "  </thead>\n",
              "  <tbody>\n",
              "    <tr>\n",
              "      <th>Store_id</th>\n",
              "      <td>188340.0</td>\n",
              "      <td>183.0</td>\n",
              "      <td>1.0</td>\n",
              "      <td>92.0</td>\n",
              "      <td>183.0</td>\n",
              "      <td>274.0</td>\n",
              "      <td>365.0</td>\n",
              "      <td>105.366308</td>\n",
              "    </tr>\n",
              "    <tr>\n",
              "      <th>Date</th>\n",
              "      <td>188340</td>\n",
              "      <td>2018-09-15 12:00:00.000000256</td>\n",
              "      <td>2018-01-01 00:00:00</td>\n",
              "      <td>2018-05-09 18:00:00</td>\n",
              "      <td>2018-09-15 12:00:00</td>\n",
              "      <td>2019-01-22 06:00:00</td>\n",
              "      <td>2019-05-31 00:00:00</td>\n",
              "      <td>NaN</td>\n",
              "    </tr>\n",
              "    <tr>\n",
              "      <th>Holiday</th>\n",
              "      <td>188340.0</td>\n",
              "      <td>0.131783</td>\n",
              "      <td>0.0</td>\n",
              "      <td>0.0</td>\n",
              "      <td>0.0</td>\n",
              "      <td>0.0</td>\n",
              "      <td>1.0</td>\n",
              "      <td>0.338256</td>\n",
              "    </tr>\n",
              "    <tr>\n",
              "      <th>#Order</th>\n",
              "      <td>188340.0</td>\n",
              "      <td>68.205692</td>\n",
              "      <td>0.0</td>\n",
              "      <td>48.0</td>\n",
              "      <td>63.0</td>\n",
              "      <td>82.0</td>\n",
              "      <td>371.0</td>\n",
              "      <td>30.467415</td>\n",
              "    </tr>\n",
              "    <tr>\n",
              "      <th>Sales</th>\n",
              "      <td>188340.0</td>\n",
              "      <td>42784.327982</td>\n",
              "      <td>0.0</td>\n",
              "      <td>30426.0</td>\n",
              "      <td>39678.0</td>\n",
              "      <td>51909.0</td>\n",
              "      <td>247215.0</td>\n",
              "      <td>18456.708302</td>\n",
              "    </tr>\n",
              "  </tbody>\n",
              "</table>\n",
              "</div>\n",
              "    <div class=\"colab-df-buttons\">\n",
              "\n",
              "  <div class=\"colab-df-container\">\n",
              "    <button class=\"colab-df-convert\" onclick=\"convertToInteractive('df-93b85044-3004-4393-ae50-0fae50431737')\"\n",
              "            title=\"Convert this dataframe to an interactive table.\"\n",
              "            style=\"display:none;\">\n",
              "\n",
              "  <svg xmlns=\"http://www.w3.org/2000/svg\" height=\"24px\" viewBox=\"0 -960 960 960\">\n",
              "    <path d=\"M120-120v-720h720v720H120Zm60-500h600v-160H180v160Zm220 220h160v-160H400v160Zm0 220h160v-160H400v160ZM180-400h160v-160H180v160Zm440 0h160v-160H620v160ZM180-180h160v-160H180v160Zm440 0h160v-160H620v160Z\"/>\n",
              "  </svg>\n",
              "    </button>\n",
              "\n",
              "  <style>\n",
              "    .colab-df-container {\n",
              "      display:flex;\n",
              "      gap: 12px;\n",
              "    }\n",
              "\n",
              "    .colab-df-convert {\n",
              "      background-color: #E8F0FE;\n",
              "      border: none;\n",
              "      border-radius: 50%;\n",
              "      cursor: pointer;\n",
              "      display: none;\n",
              "      fill: #1967D2;\n",
              "      height: 32px;\n",
              "      padding: 0 0 0 0;\n",
              "      width: 32px;\n",
              "    }\n",
              "\n",
              "    .colab-df-convert:hover {\n",
              "      background-color: #E2EBFA;\n",
              "      box-shadow: 0px 1px 2px rgba(60, 64, 67, 0.3), 0px 1px 3px 1px rgba(60, 64, 67, 0.15);\n",
              "      fill: #174EA6;\n",
              "    }\n",
              "\n",
              "    .colab-df-buttons div {\n",
              "      margin-bottom: 4px;\n",
              "    }\n",
              "\n",
              "    [theme=dark] .colab-df-convert {\n",
              "      background-color: #3B4455;\n",
              "      fill: #D2E3FC;\n",
              "    }\n",
              "\n",
              "    [theme=dark] .colab-df-convert:hover {\n",
              "      background-color: #434B5C;\n",
              "      box-shadow: 0px 1px 3px 1px rgba(0, 0, 0, 0.15);\n",
              "      filter: drop-shadow(0px 1px 2px rgba(0, 0, 0, 0.3));\n",
              "      fill: #FFFFFF;\n",
              "    }\n",
              "  </style>\n",
              "\n",
              "    <script>\n",
              "      const buttonEl =\n",
              "        document.querySelector('#df-93b85044-3004-4393-ae50-0fae50431737 button.colab-df-convert');\n",
              "      buttonEl.style.display =\n",
              "        google.colab.kernel.accessAllowed ? 'block' : 'none';\n",
              "\n",
              "      async function convertToInteractive(key) {\n",
              "        const element = document.querySelector('#df-93b85044-3004-4393-ae50-0fae50431737');\n",
              "        const dataTable =\n",
              "          await google.colab.kernel.invokeFunction('convertToInteractive',\n",
              "                                                    [key], {});\n",
              "        if (!dataTable) return;\n",
              "\n",
              "        const docLinkHtml = 'Like what you see? Visit the ' +\n",
              "          '<a target=\"_blank\" href=https://colab.research.google.com/notebooks/data_table.ipynb>data table notebook</a>'\n",
              "          + ' to learn more about interactive tables.';\n",
              "        element.innerHTML = '';\n",
              "        dataTable['output_type'] = 'display_data';\n",
              "        await google.colab.output.renderOutput(dataTable, element);\n",
              "        const docLink = document.createElement('div');\n",
              "        docLink.innerHTML = docLinkHtml;\n",
              "        element.appendChild(docLink);\n",
              "      }\n",
              "    </script>\n",
              "  </div>\n",
              "\n",
              "\n",
              "<div id=\"df-163c1832-8681-476b-b9b7-ba0252769dff\">\n",
              "  <button class=\"colab-df-quickchart\" onclick=\"quickchart('df-163c1832-8681-476b-b9b7-ba0252769dff')\"\n",
              "            title=\"Suggest charts\"\n",
              "            style=\"display:none;\">\n",
              "\n",
              "<svg xmlns=\"http://www.w3.org/2000/svg\" height=\"24px\"viewBox=\"0 0 24 24\"\n",
              "     width=\"24px\">\n",
              "    <g>\n",
              "        <path d=\"M19 3H5c-1.1 0-2 .9-2 2v14c0 1.1.9 2 2 2h14c1.1 0 2-.9 2-2V5c0-1.1-.9-2-2-2zM9 17H7v-7h2v7zm4 0h-2V7h2v10zm4 0h-2v-4h2v4z\"/>\n",
              "    </g>\n",
              "</svg>\n",
              "  </button>\n",
              "\n",
              "<style>\n",
              "  .colab-df-quickchart {\n",
              "      --bg-color: #E8F0FE;\n",
              "      --fill-color: #1967D2;\n",
              "      --hover-bg-color: #E2EBFA;\n",
              "      --hover-fill-color: #174EA6;\n",
              "      --disabled-fill-color: #AAA;\n",
              "      --disabled-bg-color: #DDD;\n",
              "  }\n",
              "\n",
              "  [theme=dark] .colab-df-quickchart {\n",
              "      --bg-color: #3B4455;\n",
              "      --fill-color: #D2E3FC;\n",
              "      --hover-bg-color: #434B5C;\n",
              "      --hover-fill-color: #FFFFFF;\n",
              "      --disabled-bg-color: #3B4455;\n",
              "      --disabled-fill-color: #666;\n",
              "  }\n",
              "\n",
              "  .colab-df-quickchart {\n",
              "    background-color: var(--bg-color);\n",
              "    border: none;\n",
              "    border-radius: 50%;\n",
              "    cursor: pointer;\n",
              "    display: none;\n",
              "    fill: var(--fill-color);\n",
              "    height: 32px;\n",
              "    padding: 0;\n",
              "    width: 32px;\n",
              "  }\n",
              "\n",
              "  .colab-df-quickchart:hover {\n",
              "    background-color: var(--hover-bg-color);\n",
              "    box-shadow: 0 1px 2px rgba(60, 64, 67, 0.3), 0 1px 3px 1px rgba(60, 64, 67, 0.15);\n",
              "    fill: var(--button-hover-fill-color);\n",
              "  }\n",
              "\n",
              "  .colab-df-quickchart-complete:disabled,\n",
              "  .colab-df-quickchart-complete:disabled:hover {\n",
              "    background-color: var(--disabled-bg-color);\n",
              "    fill: var(--disabled-fill-color);\n",
              "    box-shadow: none;\n",
              "  }\n",
              "\n",
              "  .colab-df-spinner {\n",
              "    border: 2px solid var(--fill-color);\n",
              "    border-color: transparent;\n",
              "    border-bottom-color: var(--fill-color);\n",
              "    animation:\n",
              "      spin 1s steps(1) infinite;\n",
              "  }\n",
              "\n",
              "  @keyframes spin {\n",
              "    0% {\n",
              "      border-color: transparent;\n",
              "      border-bottom-color: var(--fill-color);\n",
              "      border-left-color: var(--fill-color);\n",
              "    }\n",
              "    20% {\n",
              "      border-color: transparent;\n",
              "      border-left-color: var(--fill-color);\n",
              "      border-top-color: var(--fill-color);\n",
              "    }\n",
              "    30% {\n",
              "      border-color: transparent;\n",
              "      border-left-color: var(--fill-color);\n",
              "      border-top-color: var(--fill-color);\n",
              "      border-right-color: var(--fill-color);\n",
              "    }\n",
              "    40% {\n",
              "      border-color: transparent;\n",
              "      border-right-color: var(--fill-color);\n",
              "      border-top-color: var(--fill-color);\n",
              "    }\n",
              "    60% {\n",
              "      border-color: transparent;\n",
              "      border-right-color: var(--fill-color);\n",
              "    }\n",
              "    80% {\n",
              "      border-color: transparent;\n",
              "      border-right-color: var(--fill-color);\n",
              "      border-bottom-color: var(--fill-color);\n",
              "    }\n",
              "    90% {\n",
              "      border-color: transparent;\n",
              "      border-bottom-color: var(--fill-color);\n",
              "    }\n",
              "  }\n",
              "</style>\n",
              "\n",
              "  <script>\n",
              "    async function quickchart(key) {\n",
              "      const quickchartButtonEl =\n",
              "        document.querySelector('#' + key + ' button');\n",
              "      quickchartButtonEl.disabled = true;  // To prevent multiple clicks.\n",
              "      quickchartButtonEl.classList.add('colab-df-spinner');\n",
              "      try {\n",
              "        const charts = await google.colab.kernel.invokeFunction(\n",
              "            'suggestCharts', [key], {});\n",
              "      } catch (error) {\n",
              "        console.error('Error during call to suggestCharts:', error);\n",
              "      }\n",
              "      quickchartButtonEl.classList.remove('colab-df-spinner');\n",
              "      quickchartButtonEl.classList.add('colab-df-quickchart-complete');\n",
              "    }\n",
              "    (() => {\n",
              "      let quickchartButtonEl =\n",
              "        document.querySelector('#df-163c1832-8681-476b-b9b7-ba0252769dff button');\n",
              "      quickchartButtonEl.style.display =\n",
              "        google.colab.kernel.accessAllowed ? 'block' : 'none';\n",
              "    })();\n",
              "  </script>\n",
              "</div>\n",
              "\n",
              "    </div>\n",
              "  </div>\n"
            ],
            "application/vnd.google.colaboratory.intrinsic+json": {
              "type": "dataframe",
              "summary": "{\n  \"name\": \"train\",\n  \"rows\": 5,\n  \"fields\": [\n    {\n      \"column\": \"count\",\n      \"properties\": {\n        \"dtype\": \"date\",\n        \"min\": 188340.0,\n        \"max\": 188340.0,\n        \"num_unique_values\": 1,\n        \"samples\": [\n          188340.0\n        ],\n        \"semantic_type\": \"\",\n        \"description\": \"\"\n      }\n    },\n    {\n      \"column\": \"mean\",\n      \"properties\": {\n        \"dtype\": \"date\",\n        \"min\": \"1970-01-01 00:00:00\",\n        \"max\": \"2018-09-15 12:00:00.000000256\",\n        \"num_unique_values\": 5,\n        \"samples\": [\n          \"2018-09-15 12:00:00.000000256\"\n        ],\n        \"semantic_type\": \"\",\n        \"description\": \"\"\n      }\n    },\n    {\n      \"column\": \"min\",\n      \"properties\": {\n        \"dtype\": \"date\",\n        \"min\": \"1970-01-01 00:00:00\",\n        \"max\": \"2018-01-01 00:00:00\",\n        \"num_unique_values\": 3,\n        \"samples\": [\n          1.0\n        ],\n        \"semantic_type\": \"\",\n        \"description\": \"\"\n      }\n    },\n    {\n      \"column\": \"25%\",\n      \"properties\": {\n        \"dtype\": \"date\",\n        \"min\": \"1970-01-01 00:00:00\",\n        \"max\": \"2018-05-09 18:00:00\",\n        \"num_unique_values\": 5,\n        \"samples\": [\n          \"2018-05-09 18:00:00\"\n        ],\n        \"semantic_type\": \"\",\n        \"description\": \"\"\n      }\n    },\n    {\n      \"column\": \"50%\",\n      \"properties\": {\n        \"dtype\": \"date\",\n        \"min\": \"1970-01-01 00:00:00\",\n        \"max\": \"2018-09-15 12:00:00\",\n        \"num_unique_values\": 5,\n        \"samples\": [\n          \"2018-09-15 12:00:00\"\n        ],\n        \"semantic_type\": \"\",\n        \"description\": \"\"\n      }\n    },\n    {\n      \"column\": \"75%\",\n      \"properties\": {\n        \"dtype\": \"date\",\n        \"min\": \"1970-01-01 00:00:00\",\n        \"max\": \"2019-01-22 06:00:00\",\n        \"num_unique_values\": 5,\n        \"samples\": [\n          \"2019-01-22 06:00:00\"\n        ],\n        \"semantic_type\": \"\",\n        \"description\": \"\"\n      }\n    },\n    {\n      \"column\": \"max\",\n      \"properties\": {\n        \"dtype\": \"date\",\n        \"min\": \"1970-01-01 00:00:00.000000001\",\n        \"max\": \"2019-05-31 00:00:00\",\n        \"num_unique_values\": 5,\n        \"samples\": [\n          \"2019-05-31 00:00:00\"\n        ],\n        \"semantic_type\": \"\",\n        \"description\": \"\"\n      }\n    },\n    {\n      \"column\": \"std\",\n      \"properties\": {\n        \"dtype\": \"date\",\n        \"min\": 0.33825553720605434,\n        \"max\": 18456.708302086077,\n        \"num_unique_values\": 4,\n        \"samples\": [\n          0.33825553720605434\n        ],\n        \"semantic_type\": \"\",\n        \"description\": \"\"\n      }\n    }\n  ]\n}"
            }
          },
          "metadata": {},
          "execution_count": 78
        }
      ],
      "source": [
        "train.describe().T"
      ]
    },
    {
      "cell_type": "code",
      "source": [
        "test.describe().T"
      ],
      "metadata": {
        "colab": {
          "base_uri": "https://localhost:8080/",
          "height": 143
        },
        "id": "ISj1Qj0ir2ga",
        "outputId": "a113dfaa-41e5-460d-91a8-e514498fe839"
      },
      "execution_count": 79,
      "outputs": [
        {
          "output_type": "execute_result",
          "data": {
            "text/plain": [
              "            count                           mean                  min  \\\n",
              "Store_id  22265.0                          183.0                  1.0   \n",
              "Date        22265  2019-06-30 23:59:59.999999744  2019-06-01 00:00:00   \n",
              "Holiday   22265.0                       0.032787                  0.0   \n",
              "\n",
              "                          25%                  50%                  75%  \\\n",
              "Store_id                 92.0                183.0                274.0   \n",
              "Date      2019-06-16 00:00:00  2019-07-01 00:00:00  2019-07-16 00:00:00   \n",
              "Holiday                   0.0                  0.0                  0.0   \n",
              "\n",
              "                          max         std  \n",
              "Store_id                365.0  105.368395  \n",
              "Date      2019-07-31 00:00:00         NaN  \n",
              "Holiday                   1.0    0.178082  "
            ],
            "text/html": [
              "\n",
              "  <div id=\"df-c7abf2d8-6e0f-4c0b-93d6-c46118873b64\" class=\"colab-df-container\">\n",
              "    <div>\n",
              "<style scoped>\n",
              "    .dataframe tbody tr th:only-of-type {\n",
              "        vertical-align: middle;\n",
              "    }\n",
              "\n",
              "    .dataframe tbody tr th {\n",
              "        vertical-align: top;\n",
              "    }\n",
              "\n",
              "    .dataframe thead th {\n",
              "        text-align: right;\n",
              "    }\n",
              "</style>\n",
              "<table border=\"1\" class=\"dataframe\">\n",
              "  <thead>\n",
              "    <tr style=\"text-align: right;\">\n",
              "      <th></th>\n",
              "      <th>count</th>\n",
              "      <th>mean</th>\n",
              "      <th>min</th>\n",
              "      <th>25%</th>\n",
              "      <th>50%</th>\n",
              "      <th>75%</th>\n",
              "      <th>max</th>\n",
              "      <th>std</th>\n",
              "    </tr>\n",
              "  </thead>\n",
              "  <tbody>\n",
              "    <tr>\n",
              "      <th>Store_id</th>\n",
              "      <td>22265.0</td>\n",
              "      <td>183.0</td>\n",
              "      <td>1.0</td>\n",
              "      <td>92.0</td>\n",
              "      <td>183.0</td>\n",
              "      <td>274.0</td>\n",
              "      <td>365.0</td>\n",
              "      <td>105.368395</td>\n",
              "    </tr>\n",
              "    <tr>\n",
              "      <th>Date</th>\n",
              "      <td>22265</td>\n",
              "      <td>2019-06-30 23:59:59.999999744</td>\n",
              "      <td>2019-06-01 00:00:00</td>\n",
              "      <td>2019-06-16 00:00:00</td>\n",
              "      <td>2019-07-01 00:00:00</td>\n",
              "      <td>2019-07-16 00:00:00</td>\n",
              "      <td>2019-07-31 00:00:00</td>\n",
              "      <td>NaN</td>\n",
              "    </tr>\n",
              "    <tr>\n",
              "      <th>Holiday</th>\n",
              "      <td>22265.0</td>\n",
              "      <td>0.032787</td>\n",
              "      <td>0.0</td>\n",
              "      <td>0.0</td>\n",
              "      <td>0.0</td>\n",
              "      <td>0.0</td>\n",
              "      <td>1.0</td>\n",
              "      <td>0.178082</td>\n",
              "    </tr>\n",
              "  </tbody>\n",
              "</table>\n",
              "</div>\n",
              "    <div class=\"colab-df-buttons\">\n",
              "\n",
              "  <div class=\"colab-df-container\">\n",
              "    <button class=\"colab-df-convert\" onclick=\"convertToInteractive('df-c7abf2d8-6e0f-4c0b-93d6-c46118873b64')\"\n",
              "            title=\"Convert this dataframe to an interactive table.\"\n",
              "            style=\"display:none;\">\n",
              "\n",
              "  <svg xmlns=\"http://www.w3.org/2000/svg\" height=\"24px\" viewBox=\"0 -960 960 960\">\n",
              "    <path d=\"M120-120v-720h720v720H120Zm60-500h600v-160H180v160Zm220 220h160v-160H400v160Zm0 220h160v-160H400v160ZM180-400h160v-160H180v160Zm440 0h160v-160H620v160ZM180-180h160v-160H180v160Zm440 0h160v-160H620v160Z\"/>\n",
              "  </svg>\n",
              "    </button>\n",
              "\n",
              "  <style>\n",
              "    .colab-df-container {\n",
              "      display:flex;\n",
              "      gap: 12px;\n",
              "    }\n",
              "\n",
              "    .colab-df-convert {\n",
              "      background-color: #E8F0FE;\n",
              "      border: none;\n",
              "      border-radius: 50%;\n",
              "      cursor: pointer;\n",
              "      display: none;\n",
              "      fill: #1967D2;\n",
              "      height: 32px;\n",
              "      padding: 0 0 0 0;\n",
              "      width: 32px;\n",
              "    }\n",
              "\n",
              "    .colab-df-convert:hover {\n",
              "      background-color: #E2EBFA;\n",
              "      box-shadow: 0px 1px 2px rgba(60, 64, 67, 0.3), 0px 1px 3px 1px rgba(60, 64, 67, 0.15);\n",
              "      fill: #174EA6;\n",
              "    }\n",
              "\n",
              "    .colab-df-buttons div {\n",
              "      margin-bottom: 4px;\n",
              "    }\n",
              "\n",
              "    [theme=dark] .colab-df-convert {\n",
              "      background-color: #3B4455;\n",
              "      fill: #D2E3FC;\n",
              "    }\n",
              "\n",
              "    [theme=dark] .colab-df-convert:hover {\n",
              "      background-color: #434B5C;\n",
              "      box-shadow: 0px 1px 3px 1px rgba(0, 0, 0, 0.15);\n",
              "      filter: drop-shadow(0px 1px 2px rgba(0, 0, 0, 0.3));\n",
              "      fill: #FFFFFF;\n",
              "    }\n",
              "  </style>\n",
              "\n",
              "    <script>\n",
              "      const buttonEl =\n",
              "        document.querySelector('#df-c7abf2d8-6e0f-4c0b-93d6-c46118873b64 button.colab-df-convert');\n",
              "      buttonEl.style.display =\n",
              "        google.colab.kernel.accessAllowed ? 'block' : 'none';\n",
              "\n",
              "      async function convertToInteractive(key) {\n",
              "        const element = document.querySelector('#df-c7abf2d8-6e0f-4c0b-93d6-c46118873b64');\n",
              "        const dataTable =\n",
              "          await google.colab.kernel.invokeFunction('convertToInteractive',\n",
              "                                                    [key], {});\n",
              "        if (!dataTable) return;\n",
              "\n",
              "        const docLinkHtml = 'Like what you see? Visit the ' +\n",
              "          '<a target=\"_blank\" href=https://colab.research.google.com/notebooks/data_table.ipynb>data table notebook</a>'\n",
              "          + ' to learn more about interactive tables.';\n",
              "        element.innerHTML = '';\n",
              "        dataTable['output_type'] = 'display_data';\n",
              "        await google.colab.output.renderOutput(dataTable, element);\n",
              "        const docLink = document.createElement('div');\n",
              "        docLink.innerHTML = docLinkHtml;\n",
              "        element.appendChild(docLink);\n",
              "      }\n",
              "    </script>\n",
              "  </div>\n",
              "\n",
              "\n",
              "<div id=\"df-caa81c32-1a53-4328-aa22-1f7f4c2d06fc\">\n",
              "  <button class=\"colab-df-quickchart\" onclick=\"quickchart('df-caa81c32-1a53-4328-aa22-1f7f4c2d06fc')\"\n",
              "            title=\"Suggest charts\"\n",
              "            style=\"display:none;\">\n",
              "\n",
              "<svg xmlns=\"http://www.w3.org/2000/svg\" height=\"24px\"viewBox=\"0 0 24 24\"\n",
              "     width=\"24px\">\n",
              "    <g>\n",
              "        <path d=\"M19 3H5c-1.1 0-2 .9-2 2v14c0 1.1.9 2 2 2h14c1.1 0 2-.9 2-2V5c0-1.1-.9-2-2-2zM9 17H7v-7h2v7zm4 0h-2V7h2v10zm4 0h-2v-4h2v4z\"/>\n",
              "    </g>\n",
              "</svg>\n",
              "  </button>\n",
              "\n",
              "<style>\n",
              "  .colab-df-quickchart {\n",
              "      --bg-color: #E8F0FE;\n",
              "      --fill-color: #1967D2;\n",
              "      --hover-bg-color: #E2EBFA;\n",
              "      --hover-fill-color: #174EA6;\n",
              "      --disabled-fill-color: #AAA;\n",
              "      --disabled-bg-color: #DDD;\n",
              "  }\n",
              "\n",
              "  [theme=dark] .colab-df-quickchart {\n",
              "      --bg-color: #3B4455;\n",
              "      --fill-color: #D2E3FC;\n",
              "      --hover-bg-color: #434B5C;\n",
              "      --hover-fill-color: #FFFFFF;\n",
              "      --disabled-bg-color: #3B4455;\n",
              "      --disabled-fill-color: #666;\n",
              "  }\n",
              "\n",
              "  .colab-df-quickchart {\n",
              "    background-color: var(--bg-color);\n",
              "    border: none;\n",
              "    border-radius: 50%;\n",
              "    cursor: pointer;\n",
              "    display: none;\n",
              "    fill: var(--fill-color);\n",
              "    height: 32px;\n",
              "    padding: 0;\n",
              "    width: 32px;\n",
              "  }\n",
              "\n",
              "  .colab-df-quickchart:hover {\n",
              "    background-color: var(--hover-bg-color);\n",
              "    box-shadow: 0 1px 2px rgba(60, 64, 67, 0.3), 0 1px 3px 1px rgba(60, 64, 67, 0.15);\n",
              "    fill: var(--button-hover-fill-color);\n",
              "  }\n",
              "\n",
              "  .colab-df-quickchart-complete:disabled,\n",
              "  .colab-df-quickchart-complete:disabled:hover {\n",
              "    background-color: var(--disabled-bg-color);\n",
              "    fill: var(--disabled-fill-color);\n",
              "    box-shadow: none;\n",
              "  }\n",
              "\n",
              "  .colab-df-spinner {\n",
              "    border: 2px solid var(--fill-color);\n",
              "    border-color: transparent;\n",
              "    border-bottom-color: var(--fill-color);\n",
              "    animation:\n",
              "      spin 1s steps(1) infinite;\n",
              "  }\n",
              "\n",
              "  @keyframes spin {\n",
              "    0% {\n",
              "      border-color: transparent;\n",
              "      border-bottom-color: var(--fill-color);\n",
              "      border-left-color: var(--fill-color);\n",
              "    }\n",
              "    20% {\n",
              "      border-color: transparent;\n",
              "      border-left-color: var(--fill-color);\n",
              "      border-top-color: var(--fill-color);\n",
              "    }\n",
              "    30% {\n",
              "      border-color: transparent;\n",
              "      border-left-color: var(--fill-color);\n",
              "      border-top-color: var(--fill-color);\n",
              "      border-right-color: var(--fill-color);\n",
              "    }\n",
              "    40% {\n",
              "      border-color: transparent;\n",
              "      border-right-color: var(--fill-color);\n",
              "      border-top-color: var(--fill-color);\n",
              "    }\n",
              "    60% {\n",
              "      border-color: transparent;\n",
              "      border-right-color: var(--fill-color);\n",
              "    }\n",
              "    80% {\n",
              "      border-color: transparent;\n",
              "      border-right-color: var(--fill-color);\n",
              "      border-bottom-color: var(--fill-color);\n",
              "    }\n",
              "    90% {\n",
              "      border-color: transparent;\n",
              "      border-bottom-color: var(--fill-color);\n",
              "    }\n",
              "  }\n",
              "</style>\n",
              "\n",
              "  <script>\n",
              "    async function quickchart(key) {\n",
              "      const quickchartButtonEl =\n",
              "        document.querySelector('#' + key + ' button');\n",
              "      quickchartButtonEl.disabled = true;  // To prevent multiple clicks.\n",
              "      quickchartButtonEl.classList.add('colab-df-spinner');\n",
              "      try {\n",
              "        const charts = await google.colab.kernel.invokeFunction(\n",
              "            'suggestCharts', [key], {});\n",
              "      } catch (error) {\n",
              "        console.error('Error during call to suggestCharts:', error);\n",
              "      }\n",
              "      quickchartButtonEl.classList.remove('colab-df-spinner');\n",
              "      quickchartButtonEl.classList.add('colab-df-quickchart-complete');\n",
              "    }\n",
              "    (() => {\n",
              "      let quickchartButtonEl =\n",
              "        document.querySelector('#df-caa81c32-1a53-4328-aa22-1f7f4c2d06fc button');\n",
              "      quickchartButtonEl.style.display =\n",
              "        google.colab.kernel.accessAllowed ? 'block' : 'none';\n",
              "    })();\n",
              "  </script>\n",
              "</div>\n",
              "\n",
              "    </div>\n",
              "  </div>\n"
            ],
            "application/vnd.google.colaboratory.intrinsic+json": {
              "type": "dataframe",
              "summary": "{\n  \"name\": \"test\",\n  \"rows\": 3,\n  \"fields\": [\n    {\n      \"column\": \"count\",\n      \"properties\": {\n        \"dtype\": \"date\",\n        \"min\": 22265.0,\n        \"max\": 22265.0,\n        \"num_unique_values\": 1,\n        \"samples\": [\n          22265.0\n        ],\n        \"semantic_type\": \"\",\n        \"description\": \"\"\n      }\n    },\n    {\n      \"column\": \"mean\",\n      \"properties\": {\n        \"dtype\": \"date\",\n        \"min\": \"1970-01-01 00:00:00\",\n        \"max\": \"2019-06-30 23:59:59.999999744\",\n        \"num_unique_values\": 3,\n        \"samples\": [\n          183.0\n        ],\n        \"semantic_type\": \"\",\n        \"description\": \"\"\n      }\n    },\n    {\n      \"column\": \"min\",\n      \"properties\": {\n        \"dtype\": \"date\",\n        \"min\": \"1970-01-01 00:00:00\",\n        \"max\": \"2019-06-01 00:00:00\",\n        \"num_unique_values\": 3,\n        \"samples\": [\n          1.0\n        ],\n        \"semantic_type\": \"\",\n        \"description\": \"\"\n      }\n    },\n    {\n      \"column\": \"25%\",\n      \"properties\": {\n        \"dtype\": \"date\",\n        \"min\": \"1970-01-01 00:00:00\",\n        \"max\": \"2019-06-16 00:00:00\",\n        \"num_unique_values\": 3,\n        \"samples\": [\n          92.0\n        ],\n        \"semantic_type\": \"\",\n        \"description\": \"\"\n      }\n    },\n    {\n      \"column\": \"50%\",\n      \"properties\": {\n        \"dtype\": \"date\",\n        \"min\": \"1970-01-01 00:00:00\",\n        \"max\": \"2019-07-01 00:00:00\",\n        \"num_unique_values\": 3,\n        \"samples\": [\n          183.0\n        ],\n        \"semantic_type\": \"\",\n        \"description\": \"\"\n      }\n    },\n    {\n      \"column\": \"75%\",\n      \"properties\": {\n        \"dtype\": \"date\",\n        \"min\": \"1970-01-01 00:00:00\",\n        \"max\": \"2019-07-16 00:00:00\",\n        \"num_unique_values\": 3,\n        \"samples\": [\n          274.0\n        ],\n        \"semantic_type\": \"\",\n        \"description\": \"\"\n      }\n    },\n    {\n      \"column\": \"max\",\n      \"properties\": {\n        \"dtype\": \"date\",\n        \"min\": \"1970-01-01 00:00:00.000000001\",\n        \"max\": \"2019-07-31 00:00:00\",\n        \"num_unique_values\": 3,\n        \"samples\": [\n          365.0\n        ],\n        \"semantic_type\": \"\",\n        \"description\": \"\"\n      }\n    },\n    {\n      \"column\": \"std\",\n      \"properties\": {\n        \"dtype\": \"date\",\n        \"min\": 0.17808236790802445,\n        \"max\": 105.36839494143031,\n        \"num_unique_values\": 2,\n        \"samples\": [\n          0.17808236790802445\n        ],\n        \"semantic_type\": \"\",\n        \"description\": \"\"\n      }\n    }\n  ]\n}"
            }
          },
          "metadata": {},
          "execution_count": 79
        }
      ]
    },
    {
      "cell_type": "markdown",
      "metadata": {
        "id": "9MWpITo3l1st"
      },
      "source": [
        "## 3. Handling missing values and Preprocessing"
      ]
    },
    {
      "cell_type": "code",
      "execution_count": 103,
      "metadata": {
        "id": "6lgnkgWbtkow",
        "colab": {
          "base_uri": "https://localhost:8080/"
        },
        "outputId": "2c5f9509-1de3-466e-a3de-a0f59b1c3136"
      },
      "outputs": [
        {
          "output_type": "stream",
          "name": "stdout",
          "text": [
            "There are 0 nulls in train dataset and 0 nulls in test dataset.\n"
          ]
        }
      ],
      "source": [
        "train_null = train.isna().sum().sum()\n",
        "test_null = test.isna().sum().sum()\n",
        "print(f'There are {train_null} nulls in train dataset and {test_null} nulls in test dataset.')"
      ]
    },
    {
      "cell_type": "code",
      "source": [
        "# Define dataset type in separate column for train and test\n",
        "train['Train'] = True\n",
        "test['Train'] = False"
      ],
      "metadata": {
        "id": "-fdDLrL77BB-"
      },
      "execution_count": 104,
      "outputs": []
    },
    {
      "cell_type": "code",
      "source": [
        "def decorator(func):\n",
        "  def wrapper(*args, **kwargs):\n",
        "    print('='*50)\n",
        "    result = func(*args, **kwargs)\n",
        "    print('='*50)\n",
        "    return result\n",
        "  return wrapper\n",
        "\n",
        "@decorator\n",
        "def df_size(df,typ):\n",
        "  size = df.memory_usage().sum()/(1024**2)\n",
        "  print(f'Size of {typ} data is: {size:.2f} MB')\n",
        "  return size"
      ],
      "metadata": {
        "id": "YPlcxWoPZkss"
      },
      "execution_count": 105,
      "outputs": []
    },
    {
      "cell_type": "code",
      "execution_count": 121,
      "metadata": {
        "id": "R-CzjO7jj7UN",
        "colab": {
          "base_uri": "https://localhost:8080/"
        },
        "outputId": "b0c1a064-19eb-4239-add2-8deb36496dd3"
      },
      "outputs": [
        {
          "output_type": "stream",
          "name": "stdout",
          "text": [
            "==================================================\n",
            "Size of Non-Converted data is: 17.88 MB\n",
            "==================================================\n",
            "==================================================\n",
            "Size of Converted data is: 6.43 MB\n",
            "==================================================\n",
            "<class 'pandas.core.frame.DataFrame'>\n",
            "DatetimeIndex: 210605 entries, 2018-01-01 to 2019-07-31\n",
            "Data columns (total 9 columns):\n",
            " #   Column         Non-Null Count   Dtype   \n",
            "---  ------         --------------   -----   \n",
            " 0   Store_id       210605 non-null  uint16  \n",
            " 1   Store_Type     210605 non-null  category\n",
            " 2   Location_Type  210605 non-null  category\n",
            " 3   Region_Code    210605 non-null  category\n",
            " 4   Holiday        210605 non-null  bool    \n",
            " 5   Discount       210605 non-null  bool    \n",
            " 6   #Order         188340 non-null  float64 \n",
            " 7   Sales          188340 non-null  float64 \n",
            " 8   Train          210605 non-null  bool    \n",
            "dtypes: bool(3), category(3), float64(2), uint16(1)\n",
            "memory usage: 6.4 MB\n"
          ]
        }
      ],
      "source": [
        "# Combine both the dataset into single dataframe\n",
        "data = pd.concat([train, test])\n",
        "raw_size = df_size(data, 'Non-Converted')\n",
        "data.reset_index(drop=True, inplace=True)\n",
        "# Change Datatypes to optimize sizes\n",
        "# Store_id as unsigned integer 16 (Range is 1 to 371)\n",
        "data.Store_id = data.Store_id.astype('uint16')\n",
        "# Store_Type, Location_Type, Region_Code as categorical\n",
        "data.Store_Type = data.Store_Type.astype('category')\n",
        "data.Location_Type = data.Location_Type.astype('category')\n",
        "data.Region_Code = data.Region_Code.astype('category')\n",
        "# Holiday and Discount as Boolean\n",
        "data.Holiday = data.Holiday.astype('bool')\n",
        "data.replace({'Discount':{'Yes':True, 'No':False}}, inplace=True)\n",
        "# Drop unnecessary column Transaction ID\n",
        "data.pop('ID')\n",
        "data.set_index('Date', inplace=True)\n",
        "processed_size = df_size(data, 'Converted')\n",
        "data.info()"
      ]
    },
    {
      "cell_type": "code",
      "source": [
        "reduction = 100*(raw_size - processed_size)/raw_size\n",
        "print(f'''Original size of data is: {raw_size:.2f} MB\n",
        "Size after processing is: {processed_size:.2f} MB\n",
        "Reduction in size after processing is: {reduction:.2f}%''')"
      ],
      "metadata": {
        "colab": {
          "base_uri": "https://localhost:8080/"
        },
        "id": "T3JUxwNTjSWe",
        "outputId": "d8c5a90f-4431-4548-fa12-5032c9dabd37"
      },
      "execution_count": 122,
      "outputs": [
        {
          "output_type": "stream",
          "name": "stdout",
          "text": [
            "Original size of data is: 17.88 MB\n",
            "Size after processing is: 6.43 MB\n",
            "Reduction in size after processing is: 64.04%\n"
          ]
        }
      ]
    },
    {
      "cell_type": "code",
      "source": [
        "data.describe()"
      ],
      "metadata": {
        "colab": {
          "base_uri": "https://localhost:8080/",
          "height": 300
        },
        "id": "5syQ6R4ansDI",
        "outputId": "ff23b358-2faf-4dfb-b8ea-9a6ef895820f"
      },
      "execution_count": 118,
      "outputs": [
        {
          "output_type": "execute_result",
          "data": {
            "text/plain": [
              "            Store_id                 Date         #Order          Sales\n",
              "count  210605.000000               210605  188340.000000  188340.000000\n",
              "mean      183.000000  2018-10-16 00:00:00      68.205692   42784.327982\n",
              "min         1.000000  2018-01-01 00:00:00       0.000000       0.000000\n",
              "25%        92.000000  2018-05-25 00:00:00      48.000000   30426.000000\n",
              "50%       183.000000  2018-10-16 00:00:00      63.000000   39678.000000\n",
              "75%       274.000000  2019-03-09 00:00:00      82.000000   51909.000000\n",
              "max       365.000000  2019-07-31 00:00:00     371.000000  247215.000000\n",
              "std       105.366279                  NaN      30.467415   18456.708302"
            ],
            "text/html": [
              "\n",
              "  <div id=\"df-d14f6460-35f4-4cf0-b4c5-70bbf42cb8c0\" class=\"colab-df-container\">\n",
              "    <div>\n",
              "<style scoped>\n",
              "    .dataframe tbody tr th:only-of-type {\n",
              "        vertical-align: middle;\n",
              "    }\n",
              "\n",
              "    .dataframe tbody tr th {\n",
              "        vertical-align: top;\n",
              "    }\n",
              "\n",
              "    .dataframe thead th {\n",
              "        text-align: right;\n",
              "    }\n",
              "</style>\n",
              "<table border=\"1\" class=\"dataframe\">\n",
              "  <thead>\n",
              "    <tr style=\"text-align: right;\">\n",
              "      <th></th>\n",
              "      <th>Store_id</th>\n",
              "      <th>Date</th>\n",
              "      <th>#Order</th>\n",
              "      <th>Sales</th>\n",
              "    </tr>\n",
              "  </thead>\n",
              "  <tbody>\n",
              "    <tr>\n",
              "      <th>count</th>\n",
              "      <td>210605.000000</td>\n",
              "      <td>210605</td>\n",
              "      <td>188340.000000</td>\n",
              "      <td>188340.000000</td>\n",
              "    </tr>\n",
              "    <tr>\n",
              "      <th>mean</th>\n",
              "      <td>183.000000</td>\n",
              "      <td>2018-10-16 00:00:00</td>\n",
              "      <td>68.205692</td>\n",
              "      <td>42784.327982</td>\n",
              "    </tr>\n",
              "    <tr>\n",
              "      <th>min</th>\n",
              "      <td>1.000000</td>\n",
              "      <td>2018-01-01 00:00:00</td>\n",
              "      <td>0.000000</td>\n",
              "      <td>0.000000</td>\n",
              "    </tr>\n",
              "    <tr>\n",
              "      <th>25%</th>\n",
              "      <td>92.000000</td>\n",
              "      <td>2018-05-25 00:00:00</td>\n",
              "      <td>48.000000</td>\n",
              "      <td>30426.000000</td>\n",
              "    </tr>\n",
              "    <tr>\n",
              "      <th>50%</th>\n",
              "      <td>183.000000</td>\n",
              "      <td>2018-10-16 00:00:00</td>\n",
              "      <td>63.000000</td>\n",
              "      <td>39678.000000</td>\n",
              "    </tr>\n",
              "    <tr>\n",
              "      <th>75%</th>\n",
              "      <td>274.000000</td>\n",
              "      <td>2019-03-09 00:00:00</td>\n",
              "      <td>82.000000</td>\n",
              "      <td>51909.000000</td>\n",
              "    </tr>\n",
              "    <tr>\n",
              "      <th>max</th>\n",
              "      <td>365.000000</td>\n",
              "      <td>2019-07-31 00:00:00</td>\n",
              "      <td>371.000000</td>\n",
              "      <td>247215.000000</td>\n",
              "    </tr>\n",
              "    <tr>\n",
              "      <th>std</th>\n",
              "      <td>105.366279</td>\n",
              "      <td>NaN</td>\n",
              "      <td>30.467415</td>\n",
              "      <td>18456.708302</td>\n",
              "    </tr>\n",
              "  </tbody>\n",
              "</table>\n",
              "</div>\n",
              "    <div class=\"colab-df-buttons\">\n",
              "\n",
              "  <div class=\"colab-df-container\">\n",
              "    <button class=\"colab-df-convert\" onclick=\"convertToInteractive('df-d14f6460-35f4-4cf0-b4c5-70bbf42cb8c0')\"\n",
              "            title=\"Convert this dataframe to an interactive table.\"\n",
              "            style=\"display:none;\">\n",
              "\n",
              "  <svg xmlns=\"http://www.w3.org/2000/svg\" height=\"24px\" viewBox=\"0 -960 960 960\">\n",
              "    <path d=\"M120-120v-720h720v720H120Zm60-500h600v-160H180v160Zm220 220h160v-160H400v160Zm0 220h160v-160H400v160ZM180-400h160v-160H180v160Zm440 0h160v-160H620v160ZM180-180h160v-160H180v160Zm440 0h160v-160H620v160Z\"/>\n",
              "  </svg>\n",
              "    </button>\n",
              "\n",
              "  <style>\n",
              "    .colab-df-container {\n",
              "      display:flex;\n",
              "      gap: 12px;\n",
              "    }\n",
              "\n",
              "    .colab-df-convert {\n",
              "      background-color: #E8F0FE;\n",
              "      border: none;\n",
              "      border-radius: 50%;\n",
              "      cursor: pointer;\n",
              "      display: none;\n",
              "      fill: #1967D2;\n",
              "      height: 32px;\n",
              "      padding: 0 0 0 0;\n",
              "      width: 32px;\n",
              "    }\n",
              "\n",
              "    .colab-df-convert:hover {\n",
              "      background-color: #E2EBFA;\n",
              "      box-shadow: 0px 1px 2px rgba(60, 64, 67, 0.3), 0px 1px 3px 1px rgba(60, 64, 67, 0.15);\n",
              "      fill: #174EA6;\n",
              "    }\n",
              "\n",
              "    .colab-df-buttons div {\n",
              "      margin-bottom: 4px;\n",
              "    }\n",
              "\n",
              "    [theme=dark] .colab-df-convert {\n",
              "      background-color: #3B4455;\n",
              "      fill: #D2E3FC;\n",
              "    }\n",
              "\n",
              "    [theme=dark] .colab-df-convert:hover {\n",
              "      background-color: #434B5C;\n",
              "      box-shadow: 0px 1px 3px 1px rgba(0, 0, 0, 0.15);\n",
              "      filter: drop-shadow(0px 1px 2px rgba(0, 0, 0, 0.3));\n",
              "      fill: #FFFFFF;\n",
              "    }\n",
              "  </style>\n",
              "\n",
              "    <script>\n",
              "      const buttonEl =\n",
              "        document.querySelector('#df-d14f6460-35f4-4cf0-b4c5-70bbf42cb8c0 button.colab-df-convert');\n",
              "      buttonEl.style.display =\n",
              "        google.colab.kernel.accessAllowed ? 'block' : 'none';\n",
              "\n",
              "      async function convertToInteractive(key) {\n",
              "        const element = document.querySelector('#df-d14f6460-35f4-4cf0-b4c5-70bbf42cb8c0');\n",
              "        const dataTable =\n",
              "          await google.colab.kernel.invokeFunction('convertToInteractive',\n",
              "                                                    [key], {});\n",
              "        if (!dataTable) return;\n",
              "\n",
              "        const docLinkHtml = 'Like what you see? Visit the ' +\n",
              "          '<a target=\"_blank\" href=https://colab.research.google.com/notebooks/data_table.ipynb>data table notebook</a>'\n",
              "          + ' to learn more about interactive tables.';\n",
              "        element.innerHTML = '';\n",
              "        dataTable['output_type'] = 'display_data';\n",
              "        await google.colab.output.renderOutput(dataTable, element);\n",
              "        const docLink = document.createElement('div');\n",
              "        docLink.innerHTML = docLinkHtml;\n",
              "        element.appendChild(docLink);\n",
              "      }\n",
              "    </script>\n",
              "  </div>\n",
              "\n",
              "\n",
              "<div id=\"df-603b5ea4-65fd-4f4b-a82a-9b2725178bee\">\n",
              "  <button class=\"colab-df-quickchart\" onclick=\"quickchart('df-603b5ea4-65fd-4f4b-a82a-9b2725178bee')\"\n",
              "            title=\"Suggest charts\"\n",
              "            style=\"display:none;\">\n",
              "\n",
              "<svg xmlns=\"http://www.w3.org/2000/svg\" height=\"24px\"viewBox=\"0 0 24 24\"\n",
              "     width=\"24px\">\n",
              "    <g>\n",
              "        <path d=\"M19 3H5c-1.1 0-2 .9-2 2v14c0 1.1.9 2 2 2h14c1.1 0 2-.9 2-2V5c0-1.1-.9-2-2-2zM9 17H7v-7h2v7zm4 0h-2V7h2v10zm4 0h-2v-4h2v4z\"/>\n",
              "    </g>\n",
              "</svg>\n",
              "  </button>\n",
              "\n",
              "<style>\n",
              "  .colab-df-quickchart {\n",
              "      --bg-color: #E8F0FE;\n",
              "      --fill-color: #1967D2;\n",
              "      --hover-bg-color: #E2EBFA;\n",
              "      --hover-fill-color: #174EA6;\n",
              "      --disabled-fill-color: #AAA;\n",
              "      --disabled-bg-color: #DDD;\n",
              "  }\n",
              "\n",
              "  [theme=dark] .colab-df-quickchart {\n",
              "      --bg-color: #3B4455;\n",
              "      --fill-color: #D2E3FC;\n",
              "      --hover-bg-color: #434B5C;\n",
              "      --hover-fill-color: #FFFFFF;\n",
              "      --disabled-bg-color: #3B4455;\n",
              "      --disabled-fill-color: #666;\n",
              "  }\n",
              "\n",
              "  .colab-df-quickchart {\n",
              "    background-color: var(--bg-color);\n",
              "    border: none;\n",
              "    border-radius: 50%;\n",
              "    cursor: pointer;\n",
              "    display: none;\n",
              "    fill: var(--fill-color);\n",
              "    height: 32px;\n",
              "    padding: 0;\n",
              "    width: 32px;\n",
              "  }\n",
              "\n",
              "  .colab-df-quickchart:hover {\n",
              "    background-color: var(--hover-bg-color);\n",
              "    box-shadow: 0 1px 2px rgba(60, 64, 67, 0.3), 0 1px 3px 1px rgba(60, 64, 67, 0.15);\n",
              "    fill: var(--button-hover-fill-color);\n",
              "  }\n",
              "\n",
              "  .colab-df-quickchart-complete:disabled,\n",
              "  .colab-df-quickchart-complete:disabled:hover {\n",
              "    background-color: var(--disabled-bg-color);\n",
              "    fill: var(--disabled-fill-color);\n",
              "    box-shadow: none;\n",
              "  }\n",
              "\n",
              "  .colab-df-spinner {\n",
              "    border: 2px solid var(--fill-color);\n",
              "    border-color: transparent;\n",
              "    border-bottom-color: var(--fill-color);\n",
              "    animation:\n",
              "      spin 1s steps(1) infinite;\n",
              "  }\n",
              "\n",
              "  @keyframes spin {\n",
              "    0% {\n",
              "      border-color: transparent;\n",
              "      border-bottom-color: var(--fill-color);\n",
              "      border-left-color: var(--fill-color);\n",
              "    }\n",
              "    20% {\n",
              "      border-color: transparent;\n",
              "      border-left-color: var(--fill-color);\n",
              "      border-top-color: var(--fill-color);\n",
              "    }\n",
              "    30% {\n",
              "      border-color: transparent;\n",
              "      border-left-color: var(--fill-color);\n",
              "      border-top-color: var(--fill-color);\n",
              "      border-right-color: var(--fill-color);\n",
              "    }\n",
              "    40% {\n",
              "      border-color: transparent;\n",
              "      border-right-color: var(--fill-color);\n",
              "      border-top-color: var(--fill-color);\n",
              "    }\n",
              "    60% {\n",
              "      border-color: transparent;\n",
              "      border-right-color: var(--fill-color);\n",
              "    }\n",
              "    80% {\n",
              "      border-color: transparent;\n",
              "      border-right-color: var(--fill-color);\n",
              "      border-bottom-color: var(--fill-color);\n",
              "    }\n",
              "    90% {\n",
              "      border-color: transparent;\n",
              "      border-bottom-color: var(--fill-color);\n",
              "    }\n",
              "  }\n",
              "</style>\n",
              "\n",
              "  <script>\n",
              "    async function quickchart(key) {\n",
              "      const quickchartButtonEl =\n",
              "        document.querySelector('#' + key + ' button');\n",
              "      quickchartButtonEl.disabled = true;  // To prevent multiple clicks.\n",
              "      quickchartButtonEl.classList.add('colab-df-spinner');\n",
              "      try {\n",
              "        const charts = await google.colab.kernel.invokeFunction(\n",
              "            'suggestCharts', [key], {});\n",
              "      } catch (error) {\n",
              "        console.error('Error during call to suggestCharts:', error);\n",
              "      }\n",
              "      quickchartButtonEl.classList.remove('colab-df-spinner');\n",
              "      quickchartButtonEl.classList.add('colab-df-quickchart-complete');\n",
              "    }\n",
              "    (() => {\n",
              "      let quickchartButtonEl =\n",
              "        document.querySelector('#df-603b5ea4-65fd-4f4b-a82a-9b2725178bee button');\n",
              "      quickchartButtonEl.style.display =\n",
              "        google.colab.kernel.accessAllowed ? 'block' : 'none';\n",
              "    })();\n",
              "  </script>\n",
              "</div>\n",
              "\n",
              "    </div>\n",
              "  </div>\n"
            ],
            "application/vnd.google.colaboratory.intrinsic+json": {
              "type": "dataframe",
              "summary": "{\n  \"name\": \"data\",\n  \"rows\": 8,\n  \"fields\": [\n    {\n      \"column\": \"Store_id\",\n      \"properties\": {\n        \"dtype\": \"number\",\n        \"std\": 74399.41711353773,\n        \"min\": 1.0,\n        \"max\": 210605.0,\n        \"num_unique_values\": 7,\n        \"samples\": [\n          210605.0,\n          183.0,\n          365.0\n        ],\n        \"semantic_type\": \"\",\n        \"description\": \"\"\n      }\n    },\n    {\n      \"column\": \"Date\",\n      \"properties\": {\n        \"dtype\": \"date\",\n        \"min\": \"1970-01-01 00:00:00.000210605\",\n        \"max\": \"2019-07-31 00:00:00\",\n        \"num_unique_values\": 6,\n        \"samples\": [\n          \"210605\",\n          \"2018-10-16 00:00:00\",\n          \"2019-07-31 00:00:00\"\n        ],\n        \"semantic_type\": \"\",\n        \"description\": \"\"\n      }\n    },\n    {\n      \"column\": \"#Order\",\n      \"properties\": {\n        \"dtype\": \"number\",\n        \"std\": 66554.87586850813,\n        \"min\": 0.0,\n        \"max\": 188340.0,\n        \"num_unique_values\": 8,\n        \"samples\": [\n          68.20569183391738,\n          82.0,\n          188340.0\n        ],\n        \"semantic_type\": \"\",\n        \"description\": \"\"\n      }\n    },\n    {\n      \"column\": \"Sales\",\n      \"properties\": {\n        \"dtype\": \"number\",\n        \"std\": 89512.49884385477,\n        \"min\": 0.0,\n        \"max\": 247215.0,\n        \"num_unique_values\": 8,\n        \"samples\": [\n          42784.327981522765,\n          51909.0,\n          188340.0\n        ],\n        \"semantic_type\": \"\",\n        \"description\": \"\"\n      }\n    }\n  ]\n}"
            }
          },
          "metadata": {},
          "execution_count": 118
        }
      ]
    },
    {
      "cell_type": "code",
      "source": [
        "# Assign index to Exogenous variable dataframe\n",
        "exog_holiday = data.Holiday\n",
        "exog_discount = data.Discount\n",
        "exog = pd.concat([exog_holiday, exog_discount, data.Train], axis=1)\n",
        "exog"
      ],
      "metadata": {
        "colab": {
          "base_uri": "https://localhost:8080/",
          "height": 424
        },
        "id": "vFc5Kp6sq2pp",
        "outputId": "68464462-93ed-406c-ace4-3633cccb52b6"
      },
      "execution_count": 110,
      "outputs": [
        {
          "output_type": "execute_result",
          "data": {
            "text/plain": [
              "        Holiday  Discount  Train\n",
              "0          True      True   True\n",
              "1          True      True   True\n",
              "2          True      True   True\n",
              "3          True      True   True\n",
              "4          True      True   True\n",
              "...         ...       ...    ...\n",
              "210600    False     False  False\n",
              "210601    False     False  False\n",
              "210602    False      True  False\n",
              "210603    False     False  False\n",
              "210604    False     False  False\n",
              "\n",
              "[210605 rows x 3 columns]"
            ],
            "text/html": [
              "\n",
              "  <div id=\"df-6ae8a68a-6b58-4bcb-babc-5904748c6d4d\" class=\"colab-df-container\">\n",
              "    <div>\n",
              "<style scoped>\n",
              "    .dataframe tbody tr th:only-of-type {\n",
              "        vertical-align: middle;\n",
              "    }\n",
              "\n",
              "    .dataframe tbody tr th {\n",
              "        vertical-align: top;\n",
              "    }\n",
              "\n",
              "    .dataframe thead th {\n",
              "        text-align: right;\n",
              "    }\n",
              "</style>\n",
              "<table border=\"1\" class=\"dataframe\">\n",
              "  <thead>\n",
              "    <tr style=\"text-align: right;\">\n",
              "      <th></th>\n",
              "      <th>Holiday</th>\n",
              "      <th>Discount</th>\n",
              "      <th>Train</th>\n",
              "    </tr>\n",
              "  </thead>\n",
              "  <tbody>\n",
              "    <tr>\n",
              "      <th>0</th>\n",
              "      <td>True</td>\n",
              "      <td>True</td>\n",
              "      <td>True</td>\n",
              "    </tr>\n",
              "    <tr>\n",
              "      <th>1</th>\n",
              "      <td>True</td>\n",
              "      <td>True</td>\n",
              "      <td>True</td>\n",
              "    </tr>\n",
              "    <tr>\n",
              "      <th>2</th>\n",
              "      <td>True</td>\n",
              "      <td>True</td>\n",
              "      <td>True</td>\n",
              "    </tr>\n",
              "    <tr>\n",
              "      <th>3</th>\n",
              "      <td>True</td>\n",
              "      <td>True</td>\n",
              "      <td>True</td>\n",
              "    </tr>\n",
              "    <tr>\n",
              "      <th>4</th>\n",
              "      <td>True</td>\n",
              "      <td>True</td>\n",
              "      <td>True</td>\n",
              "    </tr>\n",
              "    <tr>\n",
              "      <th>...</th>\n",
              "      <td>...</td>\n",
              "      <td>...</td>\n",
              "      <td>...</td>\n",
              "    </tr>\n",
              "    <tr>\n",
              "      <th>210600</th>\n",
              "      <td>False</td>\n",
              "      <td>False</td>\n",
              "      <td>False</td>\n",
              "    </tr>\n",
              "    <tr>\n",
              "      <th>210601</th>\n",
              "      <td>False</td>\n",
              "      <td>False</td>\n",
              "      <td>False</td>\n",
              "    </tr>\n",
              "    <tr>\n",
              "      <th>210602</th>\n",
              "      <td>False</td>\n",
              "      <td>True</td>\n",
              "      <td>False</td>\n",
              "    </tr>\n",
              "    <tr>\n",
              "      <th>210603</th>\n",
              "      <td>False</td>\n",
              "      <td>False</td>\n",
              "      <td>False</td>\n",
              "    </tr>\n",
              "    <tr>\n",
              "      <th>210604</th>\n",
              "      <td>False</td>\n",
              "      <td>False</td>\n",
              "      <td>False</td>\n",
              "    </tr>\n",
              "  </tbody>\n",
              "</table>\n",
              "<p>210605 rows × 3 columns</p>\n",
              "</div>\n",
              "    <div class=\"colab-df-buttons\">\n",
              "\n",
              "  <div class=\"colab-df-container\">\n",
              "    <button class=\"colab-df-convert\" onclick=\"convertToInteractive('df-6ae8a68a-6b58-4bcb-babc-5904748c6d4d')\"\n",
              "            title=\"Convert this dataframe to an interactive table.\"\n",
              "            style=\"display:none;\">\n",
              "\n",
              "  <svg xmlns=\"http://www.w3.org/2000/svg\" height=\"24px\" viewBox=\"0 -960 960 960\">\n",
              "    <path d=\"M120-120v-720h720v720H120Zm60-500h600v-160H180v160Zm220 220h160v-160H400v160Zm0 220h160v-160H400v160ZM180-400h160v-160H180v160Zm440 0h160v-160H620v160ZM180-180h160v-160H180v160Zm440 0h160v-160H620v160Z\"/>\n",
              "  </svg>\n",
              "    </button>\n",
              "\n",
              "  <style>\n",
              "    .colab-df-container {\n",
              "      display:flex;\n",
              "      gap: 12px;\n",
              "    }\n",
              "\n",
              "    .colab-df-convert {\n",
              "      background-color: #E8F0FE;\n",
              "      border: none;\n",
              "      border-radius: 50%;\n",
              "      cursor: pointer;\n",
              "      display: none;\n",
              "      fill: #1967D2;\n",
              "      height: 32px;\n",
              "      padding: 0 0 0 0;\n",
              "      width: 32px;\n",
              "    }\n",
              "\n",
              "    .colab-df-convert:hover {\n",
              "      background-color: #E2EBFA;\n",
              "      box-shadow: 0px 1px 2px rgba(60, 64, 67, 0.3), 0px 1px 3px 1px rgba(60, 64, 67, 0.15);\n",
              "      fill: #174EA6;\n",
              "    }\n",
              "\n",
              "    .colab-df-buttons div {\n",
              "      margin-bottom: 4px;\n",
              "    }\n",
              "\n",
              "    [theme=dark] .colab-df-convert {\n",
              "      background-color: #3B4455;\n",
              "      fill: #D2E3FC;\n",
              "    }\n",
              "\n",
              "    [theme=dark] .colab-df-convert:hover {\n",
              "      background-color: #434B5C;\n",
              "      box-shadow: 0px 1px 3px 1px rgba(0, 0, 0, 0.15);\n",
              "      filter: drop-shadow(0px 1px 2px rgba(0, 0, 0, 0.3));\n",
              "      fill: #FFFFFF;\n",
              "    }\n",
              "  </style>\n",
              "\n",
              "    <script>\n",
              "      const buttonEl =\n",
              "        document.querySelector('#df-6ae8a68a-6b58-4bcb-babc-5904748c6d4d button.colab-df-convert');\n",
              "      buttonEl.style.display =\n",
              "        google.colab.kernel.accessAllowed ? 'block' : 'none';\n",
              "\n",
              "      async function convertToInteractive(key) {\n",
              "        const element = document.querySelector('#df-6ae8a68a-6b58-4bcb-babc-5904748c6d4d');\n",
              "        const dataTable =\n",
              "          await google.colab.kernel.invokeFunction('convertToInteractive',\n",
              "                                                    [key], {});\n",
              "        if (!dataTable) return;\n",
              "\n",
              "        const docLinkHtml = 'Like what you see? Visit the ' +\n",
              "          '<a target=\"_blank\" href=https://colab.research.google.com/notebooks/data_table.ipynb>data table notebook</a>'\n",
              "          + ' to learn more about interactive tables.';\n",
              "        element.innerHTML = '';\n",
              "        dataTable['output_type'] = 'display_data';\n",
              "        await google.colab.output.renderOutput(dataTable, element);\n",
              "        const docLink = document.createElement('div');\n",
              "        docLink.innerHTML = docLinkHtml;\n",
              "        element.appendChild(docLink);\n",
              "      }\n",
              "    </script>\n",
              "  </div>\n",
              "\n",
              "\n",
              "<div id=\"df-3612a4a5-827e-4071-b0e2-7cd569e84596\">\n",
              "  <button class=\"colab-df-quickchart\" onclick=\"quickchart('df-3612a4a5-827e-4071-b0e2-7cd569e84596')\"\n",
              "            title=\"Suggest charts\"\n",
              "            style=\"display:none;\">\n",
              "\n",
              "<svg xmlns=\"http://www.w3.org/2000/svg\" height=\"24px\"viewBox=\"0 0 24 24\"\n",
              "     width=\"24px\">\n",
              "    <g>\n",
              "        <path d=\"M19 3H5c-1.1 0-2 .9-2 2v14c0 1.1.9 2 2 2h14c1.1 0 2-.9 2-2V5c0-1.1-.9-2-2-2zM9 17H7v-7h2v7zm4 0h-2V7h2v10zm4 0h-2v-4h2v4z\"/>\n",
              "    </g>\n",
              "</svg>\n",
              "  </button>\n",
              "\n",
              "<style>\n",
              "  .colab-df-quickchart {\n",
              "      --bg-color: #E8F0FE;\n",
              "      --fill-color: #1967D2;\n",
              "      --hover-bg-color: #E2EBFA;\n",
              "      --hover-fill-color: #174EA6;\n",
              "      --disabled-fill-color: #AAA;\n",
              "      --disabled-bg-color: #DDD;\n",
              "  }\n",
              "\n",
              "  [theme=dark] .colab-df-quickchart {\n",
              "      --bg-color: #3B4455;\n",
              "      --fill-color: #D2E3FC;\n",
              "      --hover-bg-color: #434B5C;\n",
              "      --hover-fill-color: #FFFFFF;\n",
              "      --disabled-bg-color: #3B4455;\n",
              "      --disabled-fill-color: #666;\n",
              "  }\n",
              "\n",
              "  .colab-df-quickchart {\n",
              "    background-color: var(--bg-color);\n",
              "    border: none;\n",
              "    border-radius: 50%;\n",
              "    cursor: pointer;\n",
              "    display: none;\n",
              "    fill: var(--fill-color);\n",
              "    height: 32px;\n",
              "    padding: 0;\n",
              "    width: 32px;\n",
              "  }\n",
              "\n",
              "  .colab-df-quickchart:hover {\n",
              "    background-color: var(--hover-bg-color);\n",
              "    box-shadow: 0 1px 2px rgba(60, 64, 67, 0.3), 0 1px 3px 1px rgba(60, 64, 67, 0.15);\n",
              "    fill: var(--button-hover-fill-color);\n",
              "  }\n",
              "\n",
              "  .colab-df-quickchart-complete:disabled,\n",
              "  .colab-df-quickchart-complete:disabled:hover {\n",
              "    background-color: var(--disabled-bg-color);\n",
              "    fill: var(--disabled-fill-color);\n",
              "    box-shadow: none;\n",
              "  }\n",
              "\n",
              "  .colab-df-spinner {\n",
              "    border: 2px solid var(--fill-color);\n",
              "    border-color: transparent;\n",
              "    border-bottom-color: var(--fill-color);\n",
              "    animation:\n",
              "      spin 1s steps(1) infinite;\n",
              "  }\n",
              "\n",
              "  @keyframes spin {\n",
              "    0% {\n",
              "      border-color: transparent;\n",
              "      border-bottom-color: var(--fill-color);\n",
              "      border-left-color: var(--fill-color);\n",
              "    }\n",
              "    20% {\n",
              "      border-color: transparent;\n",
              "      border-left-color: var(--fill-color);\n",
              "      border-top-color: var(--fill-color);\n",
              "    }\n",
              "    30% {\n",
              "      border-color: transparent;\n",
              "      border-left-color: var(--fill-color);\n",
              "      border-top-color: var(--fill-color);\n",
              "      border-right-color: var(--fill-color);\n",
              "    }\n",
              "    40% {\n",
              "      border-color: transparent;\n",
              "      border-right-color: var(--fill-color);\n",
              "      border-top-color: var(--fill-color);\n",
              "    }\n",
              "    60% {\n",
              "      border-color: transparent;\n",
              "      border-right-color: var(--fill-color);\n",
              "    }\n",
              "    80% {\n",
              "      border-color: transparent;\n",
              "      border-right-color: var(--fill-color);\n",
              "      border-bottom-color: var(--fill-color);\n",
              "    }\n",
              "    90% {\n",
              "      border-color: transparent;\n",
              "      border-bottom-color: var(--fill-color);\n",
              "    }\n",
              "  }\n",
              "</style>\n",
              "\n",
              "  <script>\n",
              "    async function quickchart(key) {\n",
              "      const quickchartButtonEl =\n",
              "        document.querySelector('#' + key + ' button');\n",
              "      quickchartButtonEl.disabled = true;  // To prevent multiple clicks.\n",
              "      quickchartButtonEl.classList.add('colab-df-spinner');\n",
              "      try {\n",
              "        const charts = await google.colab.kernel.invokeFunction(\n",
              "            'suggestCharts', [key], {});\n",
              "      } catch (error) {\n",
              "        console.error('Error during call to suggestCharts:', error);\n",
              "      }\n",
              "      quickchartButtonEl.classList.remove('colab-df-spinner');\n",
              "      quickchartButtonEl.classList.add('colab-df-quickchart-complete');\n",
              "    }\n",
              "    (() => {\n",
              "      let quickchartButtonEl =\n",
              "        document.querySelector('#df-3612a4a5-827e-4071-b0e2-7cd569e84596 button');\n",
              "      quickchartButtonEl.style.display =\n",
              "        google.colab.kernel.accessAllowed ? 'block' : 'none';\n",
              "    })();\n",
              "  </script>\n",
              "</div>\n",
              "\n",
              "  <div id=\"id_2b6e3db6-c717-4b8d-b86a-da44d0fb9867\">\n",
              "    <style>\n",
              "      .colab-df-generate {\n",
              "        background-color: #E8F0FE;\n",
              "        border: none;\n",
              "        border-radius: 50%;\n",
              "        cursor: pointer;\n",
              "        display: none;\n",
              "        fill: #1967D2;\n",
              "        height: 32px;\n",
              "        padding: 0 0 0 0;\n",
              "        width: 32px;\n",
              "      }\n",
              "\n",
              "      .colab-df-generate:hover {\n",
              "        background-color: #E2EBFA;\n",
              "        box-shadow: 0px 1px 2px rgba(60, 64, 67, 0.3), 0px 1px 3px 1px rgba(60, 64, 67, 0.15);\n",
              "        fill: #174EA6;\n",
              "      }\n",
              "\n",
              "      [theme=dark] .colab-df-generate {\n",
              "        background-color: #3B4455;\n",
              "        fill: #D2E3FC;\n",
              "      }\n",
              "\n",
              "      [theme=dark] .colab-df-generate:hover {\n",
              "        background-color: #434B5C;\n",
              "        box-shadow: 0px 1px 3px 1px rgba(0, 0, 0, 0.15);\n",
              "        filter: drop-shadow(0px 1px 2px rgba(0, 0, 0, 0.3));\n",
              "        fill: #FFFFFF;\n",
              "      }\n",
              "    </style>\n",
              "    <button class=\"colab-df-generate\" onclick=\"generateWithVariable('exog')\"\n",
              "            title=\"Generate code using this dataframe.\"\n",
              "            style=\"display:none;\">\n",
              "\n",
              "  <svg xmlns=\"http://www.w3.org/2000/svg\" height=\"24px\"viewBox=\"0 0 24 24\"\n",
              "       width=\"24px\">\n",
              "    <path d=\"M7,19H8.4L18.45,9,17,7.55,7,17.6ZM5,21V16.75L18.45,3.32a2,2,0,0,1,2.83,0l1.4,1.43a1.91,1.91,0,0,1,.58,1.4,1.91,1.91,0,0,1-.58,1.4L9.25,21ZM18.45,9,17,7.55Zm-12,3A5.31,5.31,0,0,0,4.9,8.1,5.31,5.31,0,0,0,1,6.5,5.31,5.31,0,0,0,4.9,4.9,5.31,5.31,0,0,0,6.5,1,5.31,5.31,0,0,0,8.1,4.9,5.31,5.31,0,0,0,12,6.5,5.46,5.46,0,0,0,6.5,12Z\"/>\n",
              "  </svg>\n",
              "    </button>\n",
              "    <script>\n",
              "      (() => {\n",
              "      const buttonEl =\n",
              "        document.querySelector('#id_2b6e3db6-c717-4b8d-b86a-da44d0fb9867 button.colab-df-generate');\n",
              "      buttonEl.style.display =\n",
              "        google.colab.kernel.accessAllowed ? 'block' : 'none';\n",
              "\n",
              "      buttonEl.onclick = () => {\n",
              "        google.colab.notebook.generateWithVariable('exog');\n",
              "      }\n",
              "      })();\n",
              "    </script>\n",
              "  </div>\n",
              "\n",
              "    </div>\n",
              "  </div>\n"
            ],
            "application/vnd.google.colaboratory.intrinsic+json": {
              "type": "dataframe",
              "variable_name": "exog"
            }
          },
          "metadata": {},
          "execution_count": 110
        }
      ]
    },
    {
      "cell_type": "markdown",
      "metadata": {
        "id": "w6jWZzJPrX_X"
      },
      "source": [
        "## 4. Feature Engineering"
      ]
    },
    {
      "cell_type": "code",
      "execution_count": 126,
      "metadata": {
        "id": "ySjVFUgKpTvi",
        "colab": {
          "base_uri": "https://localhost:8080/",
          "height": 175
        },
        "outputId": "3139bbc1-0c46-4d4c-e018-0f9eabc014d9"
      },
      "outputs": [
        {
          "output_type": "execute_result",
          "data": {
            "text/plain": [
              "            Store_id Store_Type Location_Type Region_Code  Holiday  Discount  \\\n",
              "Date                                                                           \n",
              "2018-06-30       308         S4            L2          R3    False     False   \n",
              "2018-03-06       100         S1            L1          R2    False     False   \n",
              "2018-12-03        64         S3            L1          R2    False     False   \n",
              "\n",
              "            #Order     Sales  Train  Year  Quarter  Month  Day  Week  \\\n",
              "Date                                                                   \n",
              "2018-06-30   152.0  104757.0   True  2018        2      6   30    26   \n",
              "2018-03-06    58.0   35772.0   True  2018        1      3    6    10   \n",
              "2018-12-03    65.0   37077.0   True  2018        4     12    3    49   \n",
              "\n",
              "             Weekday  Weekend  \n",
              "Date                           \n",
              "2018-06-30  Saturday  Weekend  \n",
              "2018-03-06   Tuesday  Weekday  \n",
              "2018-12-03    Monday  Weekday  "
            ],
            "text/html": [
              "\n",
              "  <div id=\"df-8238b8c6-11f3-47f4-a1d0-d0adad3056fb\" class=\"colab-df-container\">\n",
              "    <div>\n",
              "<style scoped>\n",
              "    .dataframe tbody tr th:only-of-type {\n",
              "        vertical-align: middle;\n",
              "    }\n",
              "\n",
              "    .dataframe tbody tr th {\n",
              "        vertical-align: top;\n",
              "    }\n",
              "\n",
              "    .dataframe thead th {\n",
              "        text-align: right;\n",
              "    }\n",
              "</style>\n",
              "<table border=\"1\" class=\"dataframe\">\n",
              "  <thead>\n",
              "    <tr style=\"text-align: right;\">\n",
              "      <th></th>\n",
              "      <th>Store_id</th>\n",
              "      <th>Store_Type</th>\n",
              "      <th>Location_Type</th>\n",
              "      <th>Region_Code</th>\n",
              "      <th>Holiday</th>\n",
              "      <th>Discount</th>\n",
              "      <th>#Order</th>\n",
              "      <th>Sales</th>\n",
              "      <th>Train</th>\n",
              "      <th>Year</th>\n",
              "      <th>Quarter</th>\n",
              "      <th>Month</th>\n",
              "      <th>Day</th>\n",
              "      <th>Week</th>\n",
              "      <th>Weekday</th>\n",
              "      <th>Weekend</th>\n",
              "    </tr>\n",
              "    <tr>\n",
              "      <th>Date</th>\n",
              "      <th></th>\n",
              "      <th></th>\n",
              "      <th></th>\n",
              "      <th></th>\n",
              "      <th></th>\n",
              "      <th></th>\n",
              "      <th></th>\n",
              "      <th></th>\n",
              "      <th></th>\n",
              "      <th></th>\n",
              "      <th></th>\n",
              "      <th></th>\n",
              "      <th></th>\n",
              "      <th></th>\n",
              "      <th></th>\n",
              "      <th></th>\n",
              "    </tr>\n",
              "  </thead>\n",
              "  <tbody>\n",
              "    <tr>\n",
              "      <th>2018-06-30</th>\n",
              "      <td>308</td>\n",
              "      <td>S4</td>\n",
              "      <td>L2</td>\n",
              "      <td>R3</td>\n",
              "      <td>False</td>\n",
              "      <td>False</td>\n",
              "      <td>152.0</td>\n",
              "      <td>104757.0</td>\n",
              "      <td>True</td>\n",
              "      <td>2018</td>\n",
              "      <td>2</td>\n",
              "      <td>6</td>\n",
              "      <td>30</td>\n",
              "      <td>26</td>\n",
              "      <td>Saturday</td>\n",
              "      <td>Weekend</td>\n",
              "    </tr>\n",
              "    <tr>\n",
              "      <th>2018-03-06</th>\n",
              "      <td>100</td>\n",
              "      <td>S1</td>\n",
              "      <td>L1</td>\n",
              "      <td>R2</td>\n",
              "      <td>False</td>\n",
              "      <td>False</td>\n",
              "      <td>58.0</td>\n",
              "      <td>35772.0</td>\n",
              "      <td>True</td>\n",
              "      <td>2018</td>\n",
              "      <td>1</td>\n",
              "      <td>3</td>\n",
              "      <td>6</td>\n",
              "      <td>10</td>\n",
              "      <td>Tuesday</td>\n",
              "      <td>Weekday</td>\n",
              "    </tr>\n",
              "    <tr>\n",
              "      <th>2018-12-03</th>\n",
              "      <td>64</td>\n",
              "      <td>S3</td>\n",
              "      <td>L1</td>\n",
              "      <td>R2</td>\n",
              "      <td>False</td>\n",
              "      <td>False</td>\n",
              "      <td>65.0</td>\n",
              "      <td>37077.0</td>\n",
              "      <td>True</td>\n",
              "      <td>2018</td>\n",
              "      <td>4</td>\n",
              "      <td>12</td>\n",
              "      <td>3</td>\n",
              "      <td>49</td>\n",
              "      <td>Monday</td>\n",
              "      <td>Weekday</td>\n",
              "    </tr>\n",
              "  </tbody>\n",
              "</table>\n",
              "</div>\n",
              "    <div class=\"colab-df-buttons\">\n",
              "\n",
              "  <div class=\"colab-df-container\">\n",
              "    <button class=\"colab-df-convert\" onclick=\"convertToInteractive('df-8238b8c6-11f3-47f4-a1d0-d0adad3056fb')\"\n",
              "            title=\"Convert this dataframe to an interactive table.\"\n",
              "            style=\"display:none;\">\n",
              "\n",
              "  <svg xmlns=\"http://www.w3.org/2000/svg\" height=\"24px\" viewBox=\"0 -960 960 960\">\n",
              "    <path d=\"M120-120v-720h720v720H120Zm60-500h600v-160H180v160Zm220 220h160v-160H400v160Zm0 220h160v-160H400v160ZM180-400h160v-160H180v160Zm440 0h160v-160H620v160ZM180-180h160v-160H180v160Zm440 0h160v-160H620v160Z\"/>\n",
              "  </svg>\n",
              "    </button>\n",
              "\n",
              "  <style>\n",
              "    .colab-df-container {\n",
              "      display:flex;\n",
              "      gap: 12px;\n",
              "    }\n",
              "\n",
              "    .colab-df-convert {\n",
              "      background-color: #E8F0FE;\n",
              "      border: none;\n",
              "      border-radius: 50%;\n",
              "      cursor: pointer;\n",
              "      display: none;\n",
              "      fill: #1967D2;\n",
              "      height: 32px;\n",
              "      padding: 0 0 0 0;\n",
              "      width: 32px;\n",
              "    }\n",
              "\n",
              "    .colab-df-convert:hover {\n",
              "      background-color: #E2EBFA;\n",
              "      box-shadow: 0px 1px 2px rgba(60, 64, 67, 0.3), 0px 1px 3px 1px rgba(60, 64, 67, 0.15);\n",
              "      fill: #174EA6;\n",
              "    }\n",
              "\n",
              "    .colab-df-buttons div {\n",
              "      margin-bottom: 4px;\n",
              "    }\n",
              "\n",
              "    [theme=dark] .colab-df-convert {\n",
              "      background-color: #3B4455;\n",
              "      fill: #D2E3FC;\n",
              "    }\n",
              "\n",
              "    [theme=dark] .colab-df-convert:hover {\n",
              "      background-color: #434B5C;\n",
              "      box-shadow: 0px 1px 3px 1px rgba(0, 0, 0, 0.15);\n",
              "      filter: drop-shadow(0px 1px 2px rgba(0, 0, 0, 0.3));\n",
              "      fill: #FFFFFF;\n",
              "    }\n",
              "  </style>\n",
              "\n",
              "    <script>\n",
              "      const buttonEl =\n",
              "        document.querySelector('#df-8238b8c6-11f3-47f4-a1d0-d0adad3056fb button.colab-df-convert');\n",
              "      buttonEl.style.display =\n",
              "        google.colab.kernel.accessAllowed ? 'block' : 'none';\n",
              "\n",
              "      async function convertToInteractive(key) {\n",
              "        const element = document.querySelector('#df-8238b8c6-11f3-47f4-a1d0-d0adad3056fb');\n",
              "        const dataTable =\n",
              "          await google.colab.kernel.invokeFunction('convertToInteractive',\n",
              "                                                    [key], {});\n",
              "        if (!dataTable) return;\n",
              "\n",
              "        const docLinkHtml = 'Like what you see? Visit the ' +\n",
              "          '<a target=\"_blank\" href=https://colab.research.google.com/notebooks/data_table.ipynb>data table notebook</a>'\n",
              "          + ' to learn more about interactive tables.';\n",
              "        element.innerHTML = '';\n",
              "        dataTable['output_type'] = 'display_data';\n",
              "        await google.colab.output.renderOutput(dataTable, element);\n",
              "        const docLink = document.createElement('div');\n",
              "        docLink.innerHTML = docLinkHtml;\n",
              "        element.appendChild(docLink);\n",
              "      }\n",
              "    </script>\n",
              "  </div>\n",
              "\n",
              "\n",
              "<div id=\"df-5b1907cc-9270-457e-a0f7-69ec213eee6f\">\n",
              "  <button class=\"colab-df-quickchart\" onclick=\"quickchart('df-5b1907cc-9270-457e-a0f7-69ec213eee6f')\"\n",
              "            title=\"Suggest charts\"\n",
              "            style=\"display:none;\">\n",
              "\n",
              "<svg xmlns=\"http://www.w3.org/2000/svg\" height=\"24px\"viewBox=\"0 0 24 24\"\n",
              "     width=\"24px\">\n",
              "    <g>\n",
              "        <path d=\"M19 3H5c-1.1 0-2 .9-2 2v14c0 1.1.9 2 2 2h14c1.1 0 2-.9 2-2V5c0-1.1-.9-2-2-2zM9 17H7v-7h2v7zm4 0h-2V7h2v10zm4 0h-2v-4h2v4z\"/>\n",
              "    </g>\n",
              "</svg>\n",
              "  </button>\n",
              "\n",
              "<style>\n",
              "  .colab-df-quickchart {\n",
              "      --bg-color: #E8F0FE;\n",
              "      --fill-color: #1967D2;\n",
              "      --hover-bg-color: #E2EBFA;\n",
              "      --hover-fill-color: #174EA6;\n",
              "      --disabled-fill-color: #AAA;\n",
              "      --disabled-bg-color: #DDD;\n",
              "  }\n",
              "\n",
              "  [theme=dark] .colab-df-quickchart {\n",
              "      --bg-color: #3B4455;\n",
              "      --fill-color: #D2E3FC;\n",
              "      --hover-bg-color: #434B5C;\n",
              "      --hover-fill-color: #FFFFFF;\n",
              "      --disabled-bg-color: #3B4455;\n",
              "      --disabled-fill-color: #666;\n",
              "  }\n",
              "\n",
              "  .colab-df-quickchart {\n",
              "    background-color: var(--bg-color);\n",
              "    border: none;\n",
              "    border-radius: 50%;\n",
              "    cursor: pointer;\n",
              "    display: none;\n",
              "    fill: var(--fill-color);\n",
              "    height: 32px;\n",
              "    padding: 0;\n",
              "    width: 32px;\n",
              "  }\n",
              "\n",
              "  .colab-df-quickchart:hover {\n",
              "    background-color: var(--hover-bg-color);\n",
              "    box-shadow: 0 1px 2px rgba(60, 64, 67, 0.3), 0 1px 3px 1px rgba(60, 64, 67, 0.15);\n",
              "    fill: var(--button-hover-fill-color);\n",
              "  }\n",
              "\n",
              "  .colab-df-quickchart-complete:disabled,\n",
              "  .colab-df-quickchart-complete:disabled:hover {\n",
              "    background-color: var(--disabled-bg-color);\n",
              "    fill: var(--disabled-fill-color);\n",
              "    box-shadow: none;\n",
              "  }\n",
              "\n",
              "  .colab-df-spinner {\n",
              "    border: 2px solid var(--fill-color);\n",
              "    border-color: transparent;\n",
              "    border-bottom-color: var(--fill-color);\n",
              "    animation:\n",
              "      spin 1s steps(1) infinite;\n",
              "  }\n",
              "\n",
              "  @keyframes spin {\n",
              "    0% {\n",
              "      border-color: transparent;\n",
              "      border-bottom-color: var(--fill-color);\n",
              "      border-left-color: var(--fill-color);\n",
              "    }\n",
              "    20% {\n",
              "      border-color: transparent;\n",
              "      border-left-color: var(--fill-color);\n",
              "      border-top-color: var(--fill-color);\n",
              "    }\n",
              "    30% {\n",
              "      border-color: transparent;\n",
              "      border-left-color: var(--fill-color);\n",
              "      border-top-color: var(--fill-color);\n",
              "      border-right-color: var(--fill-color);\n",
              "    }\n",
              "    40% {\n",
              "      border-color: transparent;\n",
              "      border-right-color: var(--fill-color);\n",
              "      border-top-color: var(--fill-color);\n",
              "    }\n",
              "    60% {\n",
              "      border-color: transparent;\n",
              "      border-right-color: var(--fill-color);\n",
              "    }\n",
              "    80% {\n",
              "      border-color: transparent;\n",
              "      border-right-color: var(--fill-color);\n",
              "      border-bottom-color: var(--fill-color);\n",
              "    }\n",
              "    90% {\n",
              "      border-color: transparent;\n",
              "      border-bottom-color: var(--fill-color);\n",
              "    }\n",
              "  }\n",
              "</style>\n",
              "\n",
              "  <script>\n",
              "    async function quickchart(key) {\n",
              "      const quickchartButtonEl =\n",
              "        document.querySelector('#' + key + ' button');\n",
              "      quickchartButtonEl.disabled = true;  // To prevent multiple clicks.\n",
              "      quickchartButtonEl.classList.add('colab-df-spinner');\n",
              "      try {\n",
              "        const charts = await google.colab.kernel.invokeFunction(\n",
              "            'suggestCharts', [key], {});\n",
              "      } catch (error) {\n",
              "        console.error('Error during call to suggestCharts:', error);\n",
              "      }\n",
              "      quickchartButtonEl.classList.remove('colab-df-spinner');\n",
              "      quickchartButtonEl.classList.add('colab-df-quickchart-complete');\n",
              "    }\n",
              "    (() => {\n",
              "      let quickchartButtonEl =\n",
              "        document.querySelector('#df-5b1907cc-9270-457e-a0f7-69ec213eee6f button');\n",
              "      quickchartButtonEl.style.display =\n",
              "        google.colab.kernel.accessAllowed ? 'block' : 'none';\n",
              "    })();\n",
              "  </script>\n",
              "</div>\n",
              "\n",
              "    </div>\n",
              "  </div>\n"
            ],
            "application/vnd.google.colaboratory.intrinsic+json": {
              "type": "dataframe",
              "summary": "{\n  \"name\": \"data\",\n  \"rows\": 3,\n  \"fields\": [\n    {\n      \"column\": \"Date\",\n      \"properties\": {\n        \"dtype\": \"date\",\n        \"min\": \"2018-03-06 00:00:00\",\n        \"max\": \"2018-12-03 00:00:00\",\n        \"num_unique_values\": 3,\n        \"samples\": [\n          \"2018-06-30 00:00:00\",\n          \"2018-03-06 00:00:00\",\n          \"2018-12-03 00:00:00\"\n        ],\n        \"semantic_type\": \"\",\n        \"description\": \"\"\n      }\n    },\n    {\n      \"column\": \"Store_id\",\n      \"properties\": {\n        \"dtype\": \"uint16\",\n        \"num_unique_values\": 3,\n        \"samples\": [\n          308,\n          100,\n          64\n        ],\n        \"semantic_type\": \"\",\n        \"description\": \"\"\n      }\n    },\n    {\n      \"column\": \"Store_Type\",\n      \"properties\": {\n        \"dtype\": \"category\",\n        \"num_unique_values\": 3,\n        \"samples\": [\n          \"S4\",\n          \"S1\",\n          \"S3\"\n        ],\n        \"semantic_type\": \"\",\n        \"description\": \"\"\n      }\n    },\n    {\n      \"column\": \"Location_Type\",\n      \"properties\": {\n        \"dtype\": \"category\",\n        \"num_unique_values\": 2,\n        \"samples\": [\n          \"L1\",\n          \"L2\"\n        ],\n        \"semantic_type\": \"\",\n        \"description\": \"\"\n      }\n    },\n    {\n      \"column\": \"Region_Code\",\n      \"properties\": {\n        \"dtype\": \"category\",\n        \"num_unique_values\": 2,\n        \"samples\": [\n          \"R2\",\n          \"R3\"\n        ],\n        \"semantic_type\": \"\",\n        \"description\": \"\"\n      }\n    },\n    {\n      \"column\": \"Holiday\",\n      \"properties\": {\n        \"dtype\": \"boolean\",\n        \"num_unique_values\": 1,\n        \"samples\": [\n          false\n        ],\n        \"semantic_type\": \"\",\n        \"description\": \"\"\n      }\n    },\n    {\n      \"column\": \"Discount\",\n      \"properties\": {\n        \"dtype\": \"boolean\",\n        \"num_unique_values\": 1,\n        \"samples\": [\n          false\n        ],\n        \"semantic_type\": \"\",\n        \"description\": \"\"\n      }\n    },\n    {\n      \"column\": \"#Order\",\n      \"properties\": {\n        \"dtype\": \"number\",\n        \"std\": 52.367292591209385,\n        \"min\": 58.0,\n        \"max\": 152.0,\n        \"num_unique_values\": 3,\n        \"samples\": [\n          152.0\n        ],\n        \"semantic_type\": \"\",\n        \"description\": \"\"\n      }\n    },\n    {\n      \"column\": \"Sales\",\n      \"properties\": {\n        \"dtype\": \"number\",\n        \"std\": 39457.18280617611,\n        \"min\": 35772.0,\n        \"max\": 104757.0,\n        \"num_unique_values\": 3,\n        \"samples\": [\n          104757.0\n        ],\n        \"semantic_type\": \"\",\n        \"description\": \"\"\n      }\n    },\n    {\n      \"column\": \"Train\",\n      \"properties\": {\n        \"dtype\": \"boolean\",\n        \"num_unique_values\": 1,\n        \"samples\": [\n          true\n        ],\n        \"semantic_type\": \"\",\n        \"description\": \"\"\n      }\n    },\n    {\n      \"column\": \"Year\",\n      \"properties\": {\n        \"dtype\": \"int32\",\n        \"num_unique_values\": 1,\n        \"samples\": [\n          2018\n        ],\n        \"semantic_type\": \"\",\n        \"description\": \"\"\n      }\n    },\n    {\n      \"column\": \"Quarter\",\n      \"properties\": {\n        \"dtype\": \"int32\",\n        \"num_unique_values\": 3,\n        \"samples\": [\n          2\n        ],\n        \"semantic_type\": \"\",\n        \"description\": \"\"\n      }\n    },\n    {\n      \"column\": \"Month\",\n      \"properties\": {\n        \"dtype\": \"int32\",\n        \"num_unique_values\": 3,\n        \"samples\": [\n          6\n        ],\n        \"semantic_type\": \"\",\n        \"description\": \"\"\n      }\n    },\n    {\n      \"column\": \"Day\",\n      \"properties\": {\n        \"dtype\": \"int32\",\n        \"num_unique_values\": 3,\n        \"samples\": [\n          30\n        ],\n        \"semantic_type\": \"\",\n        \"description\": \"\"\n      }\n    },\n    {\n      \"column\": \"Week\",\n      \"properties\": {\n        \"dtype\": \"UInt32\",\n        \"num_unique_values\": 3,\n        \"samples\": [\n          26\n        ],\n        \"semantic_type\": \"\",\n        \"description\": \"\"\n      }\n    },\n    {\n      \"column\": \"Weekday\",\n      \"properties\": {\n        \"dtype\": \"string\",\n        \"num_unique_values\": 3,\n        \"samples\": [\n          \"Saturday\"\n        ],\n        \"semantic_type\": \"\",\n        \"description\": \"\"\n      }\n    },\n    {\n      \"column\": \"Weekend\",\n      \"properties\": {\n        \"dtype\": \"string\",\n        \"num_unique_values\": 2,\n        \"samples\": [\n          \"Weekday\"\n        ],\n        \"semantic_type\": \"\",\n        \"description\": \"\"\n      }\n    }\n  ]\n}"
            }
          },
          "metadata": {},
          "execution_count": 126
        }
      ],
      "source": [
        "data.sample(3)"
      ]
    },
    {
      "cell_type": "code",
      "execution_count": 125,
      "metadata": {
        "id": "uJ0Awg9erdWU"
      },
      "outputs": [],
      "source": [
        "data['Year'] = data.index.year\n",
        "data['Quarter'] = data.index.quarter\n",
        "data['Month'] = data.index.month\n",
        "data['Day'] = data.index.day\n",
        "data['Week'] = data.index.isocalendar().week\n",
        "data['Weekday'] = data.index.day_name()\n",
        "data['Weekend'] = data.Weekday.apply(lambda x: 'Weekend' if x in ['Saturday','Sunday'] else 'Weekday')"
      ]
    },
    {
      "cell_type": "code",
      "execution_count": null,
      "metadata": {
        "id": "351k7alcGn9f"
      },
      "outputs": [],
      "source": [
        "train.shape"
      ]
    },
    {
      "cell_type": "code",
      "execution_count": null,
      "metadata": {
        "id": "h4Xo_stSsZnZ"
      },
      "outputs": [],
      "source": [
        "a = train['language'].value_counts().reset_index()\n",
        "a['name'] = a['language'].apply(lambda code:Language.make(code).maximize().describe()['language'])\n",
        "a['script'] = a['language'].apply(lambda code:Language.make(code).maximize().describe()['script'])\n",
        "a['territory'] = a['language'].apply(lambda code:Language.make(code).maximize().describe()['territory'])"
      ]
    },
    {
      "cell_type": "markdown",
      "metadata": {
        "id": "7uOQ4emKrm5f"
      },
      "source": [
        "## 5. EDA"
      ]
    },
    {
      "cell_type": "code",
      "execution_count": null,
      "metadata": {
        "cellView": "form",
        "id": "HvNWeHLtYrAO"
      },
      "outputs": [],
      "source": [
        "#@title **Univariate Analysis**\n",
        "fig = make_subplots(rows=1, cols=3)\n",
        "fig.add_trace(go.Histogram(x=train['language']), row=1, col=1)\n",
        "fig.add_trace(go.Histogram(x=train['access']), row=1, col=2)\n",
        "fig.add_trace(go.Histogram(x=train['origin']), row=1, col=3)\n",
        "fig.update_layout(showlegend=False)\n",
        "fig.show()"
      ]
    },
    {
      "cell_type": "code",
      "execution_count": null,
      "metadata": {
        "cellView": "form",
        "id": "5KLEz1UakMn4"
      },
      "outputs": [],
      "source": [
        "#@title **Bi-variate Analysis**\n",
        "views = pd.DataFrame(train.sum(skipna=True,numeric_only=True, axis=0))\n",
        "exogenous_indices = exog[exog['Exog'] == 1].index\n",
        "plt.figure(figsize=(14, 5))\n",
        "plt.plot(views.index, views[0])\n",
        "for date in exogenous_indices:\n",
        "    plt.axvline(x=date,color='red',alpha=0.7,linewidth=0.4)\n",
        "plt.show()"
      ]
    },
    {
      "cell_type": "code",
      "execution_count": null,
      "metadata": {
        "cellView": "form",
        "id": "nwsOXfdoasa_"
      },
      "outputs": [],
      "source": [
        "#@title **Hypothesis Testing**\n",
        "from scipy.stats import chi2_contingency\n",
        "def chi2test(data, category1, category2, alpha):\n",
        "  data = train.groupby(by=[category1, category2]).sum().reset_index()\n",
        "  data['Total']=(data.sum(numeric_only=True, axis=1)/(10**6)).round(2)\n",
        "  data = data[[category1, category2,'Total']]\n",
        "  test = chi2_contingency(data.pivot(index=category1,columns=category2,values='Total').fillna(0))\n",
        "  if test.pvalue < alpha:\n",
        "    print(f'Reject the Null Hypothesis and {category1} and {category2} are dependent')\n",
        "  else:\n",
        "    print(f'Fail to reject the Null Hypothesis and {category1} and {category2} are independent')\n",
        "  print(f'Test statistics:{test.statistic},\\tp-value:{test.pvalue}')\n",
        "  return None\n",
        "\n",
        "print('--------------------------------------')\n",
        "print('Chi2 test between language and access')\n",
        "chi2test(train, 'language', 'access',0.05)\n",
        "\n",
        "print('--------------------------------------')\n",
        "print('Chi2 test between language and origin')\n",
        "chi2test(train, 'language', 'origin',0.05)\n",
        "\n",
        "print('--------------------------------------')\n",
        "print('Chi2 test between access and origin')\n",
        "chi2test(train, 'access', 'origin',0.05)"
      ]
    },
    {
      "cell_type": "markdown",
      "metadata": {
        "id": "2TUft7MSroVA"
      },
      "source": [
        "## 6. Aggregate and Pivoting"
      ]
    },
    {
      "cell_type": "code",
      "execution_count": null,
      "metadata": {
        "id": "xLM-vdSd6tyB"
      },
      "outputs": [],
      "source": [
        "# Data Preperation for modeling\n",
        "id_wise = pd.crosstab(index=train.Date, columns=train.Store_id, values =train.Sales, aggfunc='sum')\n",
        "store_type_wise = pd.crosstab(index=train.Date, columns=train.Store_id, values =train.Sales, aggfunc='sum')\n",
        "location_wise = pd.crosstab(index=train.Date, columns=train.Store_id, values =train.Sales, aggfunc='sum')\n",
        "region_wise = pd.crosstab(index=train.Date, columns=train.Store_id, values =train.Sales, aggfunc='sum')"
      ]
    },
    {
      "cell_type": "code",
      "execution_count": null,
      "metadata": {
        "id": "yCQphoq-7BJp"
      },
      "outputs": [],
      "source": [
        "print(f'List of Languages: {train.language.unique()}')\n",
        "print(f'List of Access Device: {train.access.unique()}')\n",
        "print(f'List of Traffic Origin: {train.origin.unique()}')"
      ]
    },
    {
      "cell_type": "markdown",
      "metadata": {
        "id": "PlNHYaBP6NrJ"
      },
      "source": [
        "* We have 128.5k pages after data processing and cleaning, and we cannot 128.5k build a individual forecasting model.\n",
        "* We have three options to aggregate data\n",
        "  * Language\n",
        "  * Access Device\n",
        "  * Traffic Origin\n",
        "* Here we will aggregate by summing the view counts."
      ]
    },
    {
      "cell_type": "code",
      "execution_count": null,
      "metadata": {
        "id": "lyz4-USKa_US"
      },
      "outputs": [],
      "source": [
        "# Groupby language code and aggregate by summing\n",
        "language = train.groupby(by=['language']).sum(numeric_only=True).T\n",
        "language.index = pd.to_datetime(language.index)\n",
        "language = language.astype(int)\n",
        "language.sort_index(axis=1, inplace=True)\n",
        "\n",
        "# Groupby access device type code and aggregate by summing\n",
        "access = train.groupby(by=['access']).sum(numeric_only=True).T\n",
        "access.index = pd.to_datetime(access.index)\n",
        "access = access.astype(int)\n",
        "access.sort_index(axis=1, inplace=True)\n",
        "\n",
        "# Groupby traffic origin code and aggregate by summing\n",
        "origin = train.groupby(by=['origin']).sum(numeric_only=True).T\n",
        "origin.index = pd.to_datetime(origin.index)\n",
        "origin = origin.astype(int)\n",
        "origin.sort_index(axis=1, inplace=True)"
      ]
    },
    {
      "cell_type": "markdown",
      "metadata": {
        "id": "a0ZvfMqdrp4H"
      },
      "source": [
        "## 7. Time series plots"
      ]
    },
    {
      "cell_type": "code",
      "execution_count": null,
      "metadata": {
        "cellView": "form",
        "id": "YrMeBf-XZtFw"
      },
      "outputs": [],
      "source": [
        "#@title Function to plot the data\n",
        "def plot_timeseries(code):\n",
        "  fig = go.Figure()\n",
        "  name = Language.make(code).maximize().describe()['language']\n",
        "  fig.add_trace(go.Scatter(x=language.index, y=language[code], mode='lines', name=name))\n",
        "  fig.add_trace(go.Bar(x=language.index, y=exog['Exog'], name='campaign', yaxis='y2',width=50000000, opacity=1))\n",
        "  fig.update_layout(title=f'{name} Timeseries', showlegend=False, title_x=0.12, title_y=0.75,\n",
        "      yaxis=dict(title='Views'),\n",
        "      yaxis2=dict(overlaying='y', showline=False, showgrid=False, showticklabels=False, side='right'))\n",
        "  return fig"
      ]
    },
    {
      "cell_type": "code",
      "execution_count": null,
      "metadata": {
        "id": "yerBoXnqeaES"
      },
      "outputs": [],
      "source": [
        "for code in language.columns:\n",
        "  plot_timeseries(code).show()"
      ]
    },
    {
      "cell_type": "markdown",
      "metadata": {
        "id": "Q8T0RXdGtiqx"
      },
      "source": [
        "# B. Stationarity, decomposition, detrending, ACF, and PACF"
      ]
    },
    {
      "cell_type": "markdown",
      "metadata": {
        "id": "7LT2oP0dFYS6"
      },
      "source": [
        "## 8. Stationarity test and decomposition"
      ]
    },
    {
      "cell_type": "markdown",
      "metadata": {
        "id": "hkT37z71Lfy9"
      },
      "source": [
        "Most of timeseries model (like **AR, MA, ARIMA**) works on assumption of Stationarity, which makes it easier to predict future values, estimate model parameters, and perform statistical tests. By transforming non-stationary data into a stationary form, analysts can apply a broader range of statistical tools and achieve more reliable results."
      ]
    },
    {
      "cell_type": "markdown",
      "metadata": {
        "id": "rz-8cWnQI0io"
      },
      "source": [
        "To check stationarity of timeseries we will use Augmanted Dickey-Duller test with 5% significance level as threshold."
      ]
    },
    {
      "cell_type": "code",
      "execution_count": null,
      "metadata": {
        "id": "1lSmS57en8ie"
      },
      "outputs": [],
      "source": [
        "# Import ACF/PACF plotting modules\n",
        "from statsmodels.graphics.tsaplots import plot_acf, plot_pacf\n",
        "\n",
        "# Import Dickey-Fuller test\n",
        "from statsmodels.tsa.stattools import adfuller"
      ]
    },
    {
      "cell_type": "code",
      "execution_count": null,
      "metadata": {
        "cellView": "form",
        "id": "kBBr12lzGQLm"
      },
      "outputs": [],
      "source": [
        "#@title Print Dickey-Fuller test insights\n",
        "def adf_test(dataset):\n",
        "   pvalue = adfuller(dataset)[1]\n",
        "   if pvalue <= 0.05:\n",
        "      print('is stationary', end='.')\n",
        "   else:\n",
        "      print('is not stationary', end='.')\n",
        "   print(f'\\tp-value is {pvalue}')\n",
        "for code in language.columns:\n",
        "  print(f'Time series for \"{code}\" pages ', end='')\n",
        "  adf_test(language[code])"
      ]
    },
    {
      "cell_type": "markdown",
      "metadata": {
        "id": "2K7DkrRyRdgs"
      },
      "source": [
        "### **Decomposition**"
      ]
    },
    {
      "cell_type": "code",
      "execution_count": null,
      "metadata": {
        "id": "YOVU69vSOaNt"
      },
      "outputs": [],
      "source": [
        "import statsmodels.api as sm\n",
        "def decompose(series, model_type='additive'):\n",
        "  decomposition = sm.tsa.seasonal_decompose(series, model=model_type)\n",
        "  return decomposition.plot()"
      ]
    },
    {
      "cell_type": "code",
      "execution_count": null,
      "metadata": {
        "id": "pXyqH3yjSIaA"
      },
      "outputs": [],
      "source": [
        "language.columns"
      ]
    },
    {
      "cell_type": "code",
      "execution_count": null,
      "metadata": {
        "id": "xxfYyzCbRsmY"
      },
      "outputs": [],
      "source": [
        "# Decomposition for German\n",
        "model_type='additive'\n",
        "decompose(language.de, model_type=model_type).show()"
      ]
    },
    {
      "cell_type": "code",
      "execution_count": null,
      "metadata": {
        "id": "TaoKvjhOTMhh"
      },
      "outputs": [],
      "source": [
        "# Decomposition for English\n",
        "model_type='additive'\n",
        "decompose(language.en, model_type=model_type).show()"
      ]
    },
    {
      "cell_type": "code",
      "execution_count": null,
      "metadata": {
        "id": "iV9USA7zTNxK"
      },
      "outputs": [],
      "source": [
        "# Decomposition for Spanish\n",
        "model_type='additive'\n",
        "decompose(language.es, model_type=model_type).show()"
      ]
    },
    {
      "cell_type": "code",
      "execution_count": null,
      "metadata": {
        "id": "gSDrkTAVTPDa"
      },
      "outputs": [],
      "source": [
        "# Decomposition for French\n",
        "model_type='additive'\n",
        "decompose(language.fr, model_type=model_type).show()"
      ]
    },
    {
      "cell_type": "code",
      "execution_count": null,
      "metadata": {
        "id": "OdvyxNIHTQDa"
      },
      "outputs": [],
      "source": [
        "# Decomposition for Japanese\n",
        "model_type='additive'\n",
        "decompose(language.ja, model_type=model_type).show()"
      ]
    },
    {
      "cell_type": "code",
      "execution_count": null,
      "metadata": {
        "id": "D4O2rRSpTRDi"
      },
      "outputs": [],
      "source": [
        "# Decomposition for Russian\n",
        "model_type='additive'\n",
        "decompose(language.ru, model_type=model_type).show()"
      ]
    },
    {
      "cell_type": "code",
      "execution_count": null,
      "metadata": {
        "id": "S6eYqwWCTR-K"
      },
      "outputs": [],
      "source": [
        "# Decomposition for Chinese\n",
        "model_type='additive'\n",
        "decompose(language.zh, model_type=model_type).show()"
      ]
    },
    {
      "cell_type": "markdown",
      "metadata": {
        "id": "uY95Kv5UM8un"
      },
      "source": [
        "## 9. De-trending and de-seasoning"
      ]
    },
    {
      "cell_type": "markdown",
      "metadata": {
        "id": "TaTJUKIksngU"
      },
      "source": [
        "### De-trending"
      ]
    },
    {
      "cell_type": "code",
      "source": [
        "#@title For detrending we will use differencing by 1 for once and check with Dickey-Fuller test. And do further differencing if there is non-stationarity in data.\n",
        "language_detrend = language.copy()\n",
        "difference_order = [1,1,0,0,1,0,1]\n",
        "\n",
        "for code,d in list(zip(language.columns,difference_order)):\n",
        "  if d>0:\n",
        "    language_detrend[code] = language[code].diff(d)\n",
        "\n",
        "language_detrend.dropna(inplace=True)\n",
        "\n",
        "for code in language_detrend.columns:\n",
        "  print(f'Time series for \"{code}\" pages ', end='')\n",
        "  adf_test(language_detrend[code])"
      ],
      "metadata": {
        "cellView": "form",
        "id": "XH0hkpSXArp_"
      },
      "execution_count": null,
      "outputs": []
    },
    {
      "cell_type": "code",
      "execution_count": null,
      "metadata": {
        "cellView": "form",
        "id": "qqQl9G0a-lcO"
      },
      "outputs": [],
      "source": [
        "#@title Function to compare plot of raw timeseries and detrended timeseries\n",
        "def detrend(code):\n",
        "  # Timeseries plot\n",
        "  plt.figure(figsize=(14, 4))\n",
        "  language[code].plot()\n",
        "  plt.title(code)\n",
        "  plt.figure(figsize=(14, 4))\n",
        "  language_detrend[code].plot()"
      ]
    },
    {
      "cell_type": "code",
      "execution_count": null,
      "metadata": {
        "cellView": "form",
        "id": "Napc88YSYfMv"
      },
      "outputs": [],
      "source": [
        "#@title Visualisation of detrended timeseries\n",
        "for code in language.columns:\n",
        "  detrend(code)"
      ]
    },
    {
      "cell_type": "markdown",
      "metadata": {
        "id": "2ZpfxWEwz6XL"
      },
      "source": [
        "### De-seasonalising"
      ]
    },
    {
      "cell_type": "code",
      "execution_count": null,
      "metadata": {
        "cellView": "form",
        "id": "ObxCzTgJ2RER"
      },
      "outputs": [],
      "source": [
        "#@title For de seasinalising we will take difference by 7 as our seasonality is 7 for each language\n",
        "language_deseason=language_detrend.diff(7).dropna()"
      ]
    },
    {
      "cell_type": "code",
      "execution_count": null,
      "metadata": {
        "cellView": "form",
        "id": "STXWZglpgoLA"
      },
      "outputs": [],
      "source": [
        "#@title Plot de-seasonal data\n",
        "for code in language_deseason.columns:\n",
        "  plt.figure(figsize=(14, 4))\n",
        "  language_deseason[code].plot()\n",
        "  plt.title(code)"
      ]
    },
    {
      "cell_type": "markdown",
      "metadata": {
        "id": "XqKVhT-4M-PY"
      },
      "source": [
        "## 10. Getting insights into time series characteristics"
      ]
    },
    {
      "cell_type": "markdown",
      "metadata": {
        "id": "lWB7uDbQdL16"
      },
      "source": [
        "With the help of ACF and PACF plots model building parameters can be identified\n",
        "* PACF plot helps to derive `AR(p)` model order `p`\n",
        "* ACF plot is used to derive `MA(q)` model order `q`"
      ]
    },
    {
      "cell_type": "markdown",
      "metadata": {
        "id": "V56gUTFzbXMZ"
      },
      "source": [
        "* We will plot ACF plot with de-trended & de-seasoned time series.\n",
        "* And PACF plot with original time series without de-trending and de-seasoning for each language.\n"
      ]
    },
    {
      "cell_type": "code",
      "execution_count": null,
      "metadata": {
        "cellView": "form",
        "id": "Z0g6DKK_pNpn"
      },
      "outputs": [],
      "source": [
        "#@title ACF v/s PACF Plot\n",
        "for code in language.columns:\n",
        "  fig, (ax1, ax2) = plt.subplots(1, 2, figsize=(14, 5))\n",
        "  # Plot ACF on the left side\n",
        "  plot_acf(language_deseason[code], ax=ax1)\n",
        "  ax1.set_title(f'ACF for {code}')\n",
        "\n",
        "  # Plot PACF on the right side\n",
        "  plot_pacf(language_deseason[code], ax=ax2)\n",
        "  ax2.set_title(f'PACF for {code}')\n",
        "\n",
        "  # Adjust layout\n",
        "  plt.tight_layout()\n",
        "  plt.show()"
      ]
    },
    {
      "cell_type": "markdown",
      "metadata": {
        "id": "sIDiJ198DAxP"
      },
      "source": [
        "Language|ACF|PACF\n",
        "--|--|--\n",
        "German  |Cuts off after lag2            |Cuts off after lag 3\n",
        "\t      |MA(1)/MA(2) component present  |AR(1)/AR(2)/AR(3) component present\n",
        "English |Cut off at 1 only              |Cuts off at 1 only\n",
        "\t      |Max MA(1) component not present|Max AR(1) component present\n",
        "Spanish\t|Decaying upto lag 5\t\t\t      |Cuts off after lag 1\n",
        "\t      |MA(1)...MA(5) component present|AR(1) component presentv\n",
        "French\t|Decaying upto lag 4\t\t\t      |Cuts off after lag 1\n",
        "\t      |MA(1)...MA(4) component present|AR(1) component present\n",
        "Japanese|Cuts off after lag3            |Cuts off after lag 2\n",
        "\t      |MA(1) component present\t\t\t\t|AR(1)/AR(2) component present\n",
        "Russian\t|Decaying upto lag 5\t\t\t      |Cuts off after lag 2\n",
        "\t      |MA(1)...MA(5) component present|AR(1)/AR(2) component present\n",
        "Chinese |Cuts off after lag3            |Cuts off after lag 3\n",
        "\t      |MA(1)/MA(2)/MA(3) component present |AR(1)/AR(2)/AR(3) component present\n"
      ]
    },
    {
      "cell_type": "markdown",
      "metadata": {
        "id": "LSBRJ033M-9e"
      },
      "source": [
        "# C. Model building and Evaluation"
      ]
    },
    {
      "cell_type": "markdown",
      "metadata": {
        "id": "q2QyptD4NRGX"
      },
      "source": [
        "## 11. Data splitting"
      ]
    },
    {
      "cell_type": "markdown",
      "metadata": {
        "id": "3S83qGabDQAH"
      },
      "source": [
        "To build a model we will split data into 80:20 ratio. Out of 550 days, first 440 days will be considered as train data and remaining 110 days will be used as test data."
      ]
    },
    {
      "cell_type": "code",
      "execution_count": null,
      "metadata": {
        "id": "_hQtNlkiDNTf"
      },
      "outputs": [],
      "source": [
        "train_threshold = int(language.shape[0]*0.8)\n",
        "train = language[:train_threshold]\n",
        "test = language[train_threshold:]\n",
        "train = train.asfreq('D')\n",
        "test = test.asfreq('D')\n",
        "\n",
        "exog.set_index(pd.to_datetime(exog.index), inplace=True)\n",
        "exog_train = exog[:train_threshold]\n",
        "exog_test = exog[train_threshold:]\n",
        "exog_train = exog_train.asfreq('D')\n",
        "exog_test = exog_test.asfreq('D')\n",
        "\n",
        "prediction_count = test.shape[0]"
      ]
    },
    {
      "cell_type": "markdown",
      "metadata": {
        "id": "QdN3pRpDNSVZ"
      },
      "source": [
        "## 12. ARIMA model"
      ]
    },
    {
      "cell_type": "markdown",
      "metadata": {
        "id": "VhUaIx2qLZIP"
      },
      "source": [
        "### Basic model building preperation"
      ]
    },
    {
      "cell_type": "code",
      "execution_count": null,
      "metadata": {
        "id": "slRx3oyPHHN6"
      },
      "outputs": [],
      "source": [
        "#@title Import performance metrics MSE, MAE, MAPE\n",
        "from sklearn.metrics import (mean_squared_error as mse, mean_absolute_error as mae, mean_absolute_percentage_error as mape)\n",
        "\n",
        "# Import ARIMA\n",
        "from statsmodels.tsa.statespace.sarimax import SARIMAX\n",
        "\n",
        "# Import itertools for grid generation\n",
        "import itertools"
      ]
    },
    {
      "cell_type": "code",
      "execution_count": null,
      "metadata": {
        "id": "EeFUIUsqE4Qx"
      },
      "outputs": [],
      "source": [
        "#@title Creating a function to print values of all metrics.\n",
        "def performance(actual, predicted):\n",
        "    print('MAE :', round(mae(actual, predicted), 3))\n",
        "    print('RMSE :', round(mse(actual, predicted)**0.5, 3))\n",
        "    print('MAPE:', round(mape(actual, predicted), 3))\n",
        "    return round(mape(actual, predicted), 3)\n",
        "def mape_score(actual, predicted):\n",
        "    return round(mape(actual, predicted), 3)"
      ]
    },
    {
      "cell_type": "code",
      "execution_count": null,
      "metadata": {
        "id": "F1M1DXZqB9G2"
      },
      "outputs": [],
      "source": [
        "#@title Define the parameter grid\n",
        "p,d,q = range(0,8), [0,1], range(0, 5)\n",
        "\n",
        "# Generate all different combinations of p, d, q for each language model\n",
        "parameters = list(itertools.product(p, d, q))\n",
        "\n",
        "german_parameters = list(itertools.product([1,2], [1], [1,2,3]))\n",
        "english_parameters = list(itertools.product([0,1], [1], [0,1]))\n",
        "spanish_parameters = list(itertools.product([1,2,3,4,5], [0], [0,1]))\n",
        "french_parameters = list(itertools.product([1,2,3,4], [0], [1]))\n",
        "japanese_parameters = list(itertools.product([1,2,3,4,5,6], [1], [1,2]))\n",
        "russian_parameters = list(itertools.product([1,2,3,4,5], [0], [1,2]))\n",
        "chinese_parameters = list(itertools.product([1,2,3], [1], [1,2,3]))\n",
        "model_parameters=[german_parameters,english_parameters,spanish_parameters,spanish_parameters,french_parameters,japanese_parameters,russian_parameters,chinese_parameters]"
      ]
    },
    {
      "cell_type": "code",
      "source": [
        "#@title Function for building best ARIMA model\n",
        "def bestARIMA(model_language,non_seasonal_order):\n",
        "  # Initialize a DataFrame to store the results\n",
        "  results = []\n",
        "  # Fit the ARIMA model for each combination of parameters\n",
        "  for param in non_seasonal_order:\n",
        "    try:\n",
        "      arima_model = SARIMAX(train[model_language],\n",
        "                      order=param,\n",
        "                      enforce_stationarity=False,\n",
        "                      enforce_invertibility=False).fit(disp=False)\n",
        "      test[f'{model_language}_pred']=arima_model.forecast(steps=prediction_count)\n",
        "      # Store the results in the DataFrame\n",
        "      results.append((param,mape_score(test[model_language],test[f'{model_language}_pred']), arima_model.aic))\n",
        "    except Exception as e:\n",
        "      continue\n",
        "  results_df = pd.DataFrame(results, columns=['params', 'MAPE', 'AIC'])\n",
        "  results_df.sort_values(by=['MAPE','AIC'], inplace=True)\n",
        "\n",
        "  # Find the best parameters\n",
        "  best_params = results_df.iloc[0]\n",
        "  print(f'''Best ARIMA Model for {model_language} language\n",
        "  (p,d,q):{best_params.params}\n",
        "  MAPE:\\t{best_params.MAPE}\n",
        "  AIC:\\t{best_params.AIC}''')\n",
        "\n",
        "  # Fit the best model\n",
        "  return SARIMAX(train[model_language], order=best_params.params, enforce_stationarity=False, enforce_invertibility=False).fit(disp=False)"
      ],
      "metadata": {
        "id": "X02We-Zk-lXc"
      },
      "execution_count": null,
      "outputs": []
    },
    {
      "cell_type": "code",
      "source": [
        "#@title Build best fit ARIMA model for each language\n",
        "# Create an empty dictionary for forecasting models\n",
        "best_ARIMA_model = {}\n",
        "\n",
        "# Build a best ARIMA forecasting model for each language from multiple combinations\n",
        "for model_language,non_seasonal_order in zip(language.columns,model_parameters):\n",
        "  best_ARIMA_model[model_language] = bestARIMA(model_language,non_seasonal_order)\n",
        "  #best_ARIMA_model[model_language] = bestARIMA(model_language,parameters)"
      ],
      "metadata": {
        "id": "71SxVlhPABQr"
      },
      "execution_count": null,
      "outputs": []
    },
    {
      "cell_type": "code",
      "source": [
        "best_ARIMA_model"
      ],
      "metadata": {
        "id": "gG5hCSiNAOwy"
      },
      "execution_count": null,
      "outputs": []
    },
    {
      "cell_type": "markdown",
      "metadata": {
        "id": "CsZgHS2MKC4E"
      },
      "source": [
        "### Model Summary and Visual Representation"
      ]
    },
    {
      "cell_type": "markdown",
      "source": [
        "#### All Model's Summary"
      ],
      "metadata": {
        "id": "kF_QFQU7buwR"
      }
    },
    {
      "cell_type": "code",
      "source": [
        "#@title Model summary\n",
        "for model_language in language.columns:\n",
        "  print('\\n','*'*150,'\\n','*'*150)\n",
        "  print('Summaary of ', model_language)\n",
        "  print(best_ARIMA_model[model_language].summary())"
      ],
      "metadata": {
        "id": "hvihRFrP_HBa"
      },
      "execution_count": null,
      "outputs": []
    },
    {
      "cell_type": "markdown",
      "source": [
        "#### All Model's Graphs"
      ],
      "metadata": {
        "id": "2f70bRZymBTz"
      }
    },
    {
      "cell_type": "code",
      "execution_count": null,
      "metadata": {
        "id": "WNiLnjnOGIBq"
      },
      "outputs": [],
      "source": [
        "#@title Graphical representation of model\n",
        "for model_language in language.columns[:2]:\n",
        "  print('\\n','*'*150,'\\n','*'*150)\n",
        "  print('Graphical representation of ', model_language)\n",
        "  test[f'{model_language}_pred']=best_ARIMA_model[model_language].forecast(steps=prediction_count)\n",
        "  plt.figure(figsize=(15, 5))\n",
        "  plt.plot(test[[model_language,f'{model_language}_pred']])\n",
        "  plt.plot(train[[model_language]])\n",
        "  best_ARIMA_model[model_language].plot_diagnostics(figsize=(15, 10)).show()\n",
        "  plt.show()"
      ]
    },
    {
      "cell_type": "markdown",
      "metadata": {
        "id": "YOz8VmjUNS94"
      },
      "source": [
        "## 13. SARIMAX model"
      ]
    },
    {
      "cell_type": "markdown",
      "source": [
        "To  have better accuracy in forecasting we will use exogenous variable"
      ],
      "metadata": {
        "id": "Yd4dqQfraCQJ"
      }
    },
    {
      "cell_type": "markdown",
      "metadata": {
        "id": "hY768H70E_GF"
      },
      "source": [
        "### Basic model building preperation"
      ]
    },
    {
      "cell_type": "code",
      "execution_count": null,
      "metadata": {
        "cellView": "form",
        "id": "MZAA0zBzE_GS"
      },
      "outputs": [],
      "source": [
        "#@title Define the parameter grid\n",
        "p,d,q = range(0,6), [0,1], range(0, 3)\n",
        "parameters = list(itertools.product(p, d, q))\n",
        "\n",
        "# seasonal_parameters P, D, Q, S\n",
        "seasonal_parameters = [(1,0,1,7),(2,0,1,7),(3,0,1,7)]"
      ]
    },
    {
      "cell_type": "code",
      "source": [
        "#@title Function for building best SARIMAX model\n",
        "def bestSARIMAX(model_language,parameters,seasonal_parameters):\n",
        "  # Initialize a DataFrame to store the results\n",
        "  results = []\n",
        "  # Fit the SARIMAX model for each combination of parameters\n",
        "  for param in parameters:\n",
        "      for seasonal_param in seasonal_parameters:\n",
        "          try:\n",
        "              SARIMAX_model = SARIMAX(train[model_language],exog=exog_train,\n",
        "                              order=param,\n",
        "                              seasonal_order=seasonal_param,\n",
        "                              enforce_stationarity=False,\n",
        "                              enforce_invertibility=False).fit(disp=False)\n",
        "\n",
        "              # Store the results in the DataFrame\n",
        "              test[f'{model_language}_pred']=SARIMAX_model.forecast(steps=prediction_count, exog=exog_test)\n",
        "              results.append((param, seasonal_param, mape_score(test[model_language],test[f'{model_language}_pred']), SARIMAX_model.aic))\n",
        "\n",
        "          except Exception as e:\n",
        "              continue\n",
        "\n",
        "  results_df = pd.DataFrame(results, columns=['params', 'seasonal_params', 'MAPE', 'AIC'])\n",
        "  results_df.sort_values(by=['MAPE','AIC'], inplace=True)\n",
        "  # Find the best parameters\n",
        "  best_params = results_df.iloc[0]\n",
        "\n",
        "  print(f'''Best SARIMAX Model for {model_language} language\n",
        "  (p,d,q):{best_params.params}, (P,D,Q,S):{best_params.seasonal_params},\n",
        "  MAPE:\\t{best_params.MAPE}\n",
        "  AIC:\\t{best_params.AIC}''')\n",
        "\n",
        "  # Fit the best model\n",
        "  return SARIMAX(train[model_language],exog=exog_train, order=best_params.params, seasonal_order=best_params.seasonal_params, enforce_stationarity=False, enforce_invertibility=False).fit(disp=False)"
      ],
      "metadata": {
        "cellView": "form",
        "id": "_c4IQ0Q-E_GU"
      },
      "execution_count": null,
      "outputs": []
    },
    {
      "cell_type": "code",
      "source": [
        "#@title Finding best model\n",
        "\n",
        "best_SARIMAX_model = {}\n",
        "for model_language,non_seasonal_order in zip(language.columns,model_parameters):\n",
        "  #best_SARIMAX_model[model_language] = bestSARIMAX(model_language,non_seasonal_order,seasonal_parameters)\n",
        "  best_SARIMAX_model[model_language] = bestSARIMAX(model_language,parameters,seasonal_parameters)"
      ],
      "metadata": {
        "id": "jb780cePH1Xe",
        "cellView": "form"
      },
      "execution_count": null,
      "outputs": []
    },
    {
      "cell_type": "code",
      "source": [
        "#@title Final Model Building\n",
        "best_fit_model_parameters = {\n",
        "    'de':[[(5,1,2)],[(1,0,1,7)]],\n",
        "    'en':[[(4,1,2)],[(1,0,1,7)]],\n",
        "    'es':[[(3,1,2)],[(2,0,1,7)]],\n",
        "    'fr':[[(3,1,2)],[(1,0,1,7)]],\n",
        "    'ja':[[(5,1,2)],[(3,0,1,7)]],\n",
        "    'ru':[[(1,1,0)],[(2,0,1,7)]],\n",
        "    'zh':[[(1,1,1)],[(3,0,1,7)]]}\n",
        "\n",
        "for model_language in language.columns:\n",
        "#  print(model_language,best_fit_model_parameters[model_language][0],best_fit_model_parameters[model_language][1])\n",
        "  best_SARIMAX_model[model_language] = bestSARIMAX(model_language,best_fit_model_parameters[model_language][0],best_fit_model_parameters[model_language][1])"
      ],
      "metadata": {
        "cellView": "form",
        "id": "HDa8LA9-uyVC"
      },
      "execution_count": null,
      "outputs": []
    },
    {
      "cell_type": "markdown",
      "source": [
        "For all possible combinations, MAPE score of SARIMAX model is very high for `es` language code, this means `EXOG` variable is not significant. So we will continue without `EXOG` variable for `es` model."
      ],
      "metadata": {
        "id": "4QfJw7PmLAhY"
      }
    },
    {
      "cell_type": "code",
      "source": [
        "#@title \"es\" model building without exogenous variable\n",
        "def bestSARIMAXnonExog(model_language,parameters,seasonal_parameters):\n",
        "  # Initialize a DataFrame to store the results\n",
        "  results = []\n",
        "  # Fit the SARIMAX model for each combination of parameters\n",
        "  for param in parameters:\n",
        "      for seasonal_param in seasonal_parameters:\n",
        "          try:\n",
        "              SARIMAX_model = SARIMAX(train[model_language],\n",
        "                              order=param,\n",
        "                              seasonal_order=seasonal_param,\n",
        "                              enforce_stationarity=False,\n",
        "                              enforce_invertibility=False).fit(disp=False)\n",
        "\n",
        "              # Store the results in the DataFrame\n",
        "              test[f'{model_language}_pred']=SARIMAX_model.forecast(steps=prediction_count)\n",
        "              results.append((param, seasonal_param, mape_score(test[model_language],test[f'{model_language}_pred']), SARIMAX_model.aic))\n",
        "\n",
        "          except Exception as e:\n",
        "              continue\n",
        "\n",
        "  results_df = pd.DataFrame(results, columns=['params', 'seasonal_params', 'MAPE', 'AIC'])\n",
        "  results_df.sort_values(by=['MAPE','AIC'], inplace=True)\n",
        "  # Find the best parameters\n",
        "  best_params = results_df.iloc[0]\n",
        "\n",
        "  print(f'''Best SARIMAX Model for {model_language} language\n",
        "  (p,d,q):{best_params.params}, (P,D,Q,S):{best_params.seasonal_params},\n",
        "  MAPE:\\t{best_params.MAPE}\n",
        "  AIC:\\t{best_params.AIC}''')\n",
        "\n",
        "  # Fit the best model\n",
        "  return SARIMAX(train[model_language], order=best_params.params, seasonal_order=best_params.seasonal_params, enforce_stationarity=False, enforce_invertibility=False).fit(disp=False)\n",
        "\n",
        "best_SARIMAX_model['es'] = bestSARIMAXnonExog('es',parameters,seasonal_parameters)"
      ],
      "metadata": {
        "cellView": "form",
        "id": "o05hkLEujBLW"
      },
      "execution_count": null,
      "outputs": []
    },
    {
      "cell_type": "code",
      "source": [
        "best_SARIMAX_model"
      ],
      "metadata": {
        "id": "Bx89zCzgIDnG"
      },
      "execution_count": null,
      "outputs": []
    },
    {
      "cell_type": "markdown",
      "metadata": {
        "id": "T_7sAxx3cAzq"
      },
      "source": [
        "### Model Summary and Visual Representation"
      ]
    },
    {
      "cell_type": "markdown",
      "source": [
        "#### German Model"
      ],
      "metadata": {
        "id": "zVfBF3N6cAzr"
      }
    },
    {
      "cell_type": "code",
      "source": [
        "#@title Graphical representation of model\n",
        "model_language='de'\n",
        "print(best_SARIMAX_model[model_language].summary())\n",
        "print('===================================================================================')\n",
        "\n",
        "test[f'{model_language}_pred']=best_SARIMAX_model[model_language].forecast(steps=prediction_count, exog=exog_test)\n",
        "plt.figure(figsize=(15, 5))\n",
        "plt.plot(test[[model_language,f'{model_language}_pred']], label=['test','pred'])\n",
        "plt.plot(train[[model_language]], label='train')\n",
        "plt.legend()\n",
        "best_SARIMAX_model[model_language].plot_diagnostics(figsize=(15, 10)).show()\n",
        "plt.show()"
      ],
      "metadata": {
        "cellView": "form",
        "id": "9Wz611X2cAzr"
      },
      "execution_count": null,
      "outputs": []
    },
    {
      "cell_type": "markdown",
      "metadata": {
        "id": "yYSI-PPxcAzr"
      },
      "source": [
        "#### English Model"
      ]
    },
    {
      "cell_type": "code",
      "execution_count": null,
      "metadata": {
        "cellView": "form",
        "id": "xgLpmXUQcAzs"
      },
      "outputs": [],
      "source": [
        "#@title Graphical representation of model\n",
        "model_language='en'\n",
        "print(best_SARIMAX_model[model_language].summary())\n",
        "print('===================================================================================')\n",
        "\n",
        "test[f'{model_language}_pred']=best_SARIMAX_model[model_language].forecast(steps=prediction_count, exog=exog_test)\n",
        "plt.figure(figsize=(15, 5))\n",
        "plt.plot(test[[model_language,f'{model_language}_pred']], label=['test','pred'])\n",
        "plt.plot(train[[model_language]], label='train')\n",
        "plt.legend()\n",
        "best_SARIMAX_model[model_language].plot_diagnostics(figsize=(15, 10)).show()\n",
        "plt.show()"
      ]
    },
    {
      "cell_type": "markdown",
      "metadata": {
        "id": "IWfJs6ERcAzs"
      },
      "source": [
        "#### Spanish Model"
      ]
    },
    {
      "cell_type": "code",
      "execution_count": null,
      "metadata": {
        "id": "vauQeKc_cAzs",
        "cellView": "form"
      },
      "outputs": [],
      "source": [
        "#@title Graphical representation of model\n",
        "model_language='es'\n",
        "print(best_SARIMAX_model[model_language].summary())\n",
        "print('===================================================================================')\n",
        "\n",
        "test[f'{model_language}_pred']=best_SARIMAX_model[model_language].forecast(steps=prediction_count)\n",
        "plt.figure(figsize=(15, 5))\n",
        "plt.plot(test[[model_language,f'{model_language}_pred']], label=['test','pred'])\n",
        "plt.plot(train[[model_language]], label='train')\n",
        "plt.legend()\n",
        "plt.show()\n",
        "best_SARIMAX_model[model_language].plot_diagnostics(figsize=(15, 10)).show()"
      ]
    },
    {
      "cell_type": "markdown",
      "metadata": {
        "id": "Kgv80R2vcAzt"
      },
      "source": [
        "#### French Model"
      ]
    },
    {
      "cell_type": "code",
      "execution_count": null,
      "metadata": {
        "cellView": "form",
        "id": "rNds3u2OcAzt"
      },
      "outputs": [],
      "source": [
        "#@title Graphical representation of model\n",
        "model_language='fr'\n",
        "print(best_SARIMAX_model[model_language].summary())\n",
        "print('===================================================================================')\n",
        "\n",
        "test[f'{model_language}_pred']=best_SARIMAX_model[model_language].forecast(steps=prediction_count, exog=exog_test)\n",
        "plt.figure(figsize=(15, 5))\n",
        "plt.plot(test[[model_language,f'{model_language}_pred']], label=['test','pred'])\n",
        "plt.plot(train[[model_language]], label='train')\n",
        "plt.legend()\n",
        "plt.show()\n",
        "best_SARIMAX_model[model_language].plot_diagnostics(figsize=(15, 10)).show()"
      ]
    },
    {
      "cell_type": "markdown",
      "metadata": {
        "id": "g9-bRwx7cAzt"
      },
      "source": [
        "#### Japanese Model"
      ]
    },
    {
      "cell_type": "code",
      "execution_count": null,
      "metadata": {
        "id": "svygwBY2cAzt"
      },
      "outputs": [],
      "source": [
        "#@title Graphical representation of model\n",
        "model_language='ja'\n",
        "print(best_SARIMAX_model[model_language].summary())\n",
        "print('===================================================================================')\n",
        "\n",
        "test[f'{model_language}_pred']=best_SARIMAX_model[model_language].forecast(steps=prediction_count, exog=exog_test)\n",
        "plt.figure(figsize=(15, 5))\n",
        "plt.plot(test[[model_language,f'{model_language}_pred']], label=['test','pred'])\n",
        "plt.plot(train[[model_language]], label='train')\n",
        "plt.legend()\n",
        "plt.show()\n",
        "best_SARIMAX_model[model_language].plot_diagnostics(figsize=(15, 10)).show()"
      ]
    },
    {
      "cell_type": "markdown",
      "metadata": {
        "id": "GDpei2PycAzu"
      },
      "source": [
        "#### Russian Model"
      ]
    },
    {
      "cell_type": "code",
      "execution_count": null,
      "metadata": {
        "cellView": "form",
        "id": "I8OjXAmucAzu"
      },
      "outputs": [],
      "source": [
        "#@title Graphical representation of model\n",
        "model_language='ru'\n",
        "print(best_SARIMAX_model[model_language].summary())\n",
        "print('===================================================================================')\n",
        "\n",
        "test[f'{model_language}_pred']=best_SARIMAX_model[model_language].forecast(steps=prediction_count, exog=exog_test)\n",
        "plt.figure(figsize=(15, 5))\n",
        "plt.plot(test[[model_language,f'{model_language}_pred']], label=['test','pred'])\n",
        "plt.plot(train[[model_language]], label='train')\n",
        "plt.legend()\n",
        "plt.show()\n",
        "best_SARIMAX_model[model_language].plot_diagnostics(figsize=(15, 10)).show()"
      ]
    },
    {
      "cell_type": "markdown",
      "metadata": {
        "id": "sNUo-d_dcAzv"
      },
      "source": [
        "#### Chinese Model"
      ]
    },
    {
      "cell_type": "code",
      "execution_count": null,
      "metadata": {
        "cellView": "form",
        "id": "p8uqiaZ5cAzv"
      },
      "outputs": [],
      "source": [
        "#@title Graphical representation of model\n",
        "model_language='zh'\n",
        "print(best_SARIMAX_model[model_language].summary())\n",
        "print('===================================================================================')\n",
        "\n",
        "test[f'{model_language}_pred']=best_SARIMAX_model[model_language].forecast(steps=prediction_count, exog=exog_test)\n",
        "plt.figure(figsize=(15, 5))\n",
        "plt.plot(test[[model_language,f'{model_language}_pred']], label=['test','pred'])\n",
        "plt.plot(train[[model_language]], label='train')\n",
        "plt.legend()\n",
        "plt.show()\n",
        "best_SARIMAX_model[model_language].plot_diagnostics(figsize=(15, 10)).show()"
      ]
    },
    {
      "cell_type": "markdown",
      "metadata": {
        "id": "ZVDQIFMpNeN8"
      },
      "source": [
        "## 14. Facebook Prophet"
      ]
    },
    {
      "cell_type": "markdown",
      "source": [
        "In SARIMAX Model we cannot have multiple seasonality or multiple exogenous variable, we can only select one value. To overcome this disability, we will use an open source library called `prophet` which is developed by Facebook\n",
        "\n",
        "**Some features of Facebook's Prophet:**\n",
        "* Provides intuitive parameters which can be easily tuned\n",
        "* It is robust to missing data and shifts in the trend, and typically handles outliers well.\n",
        "* It can account for multiple seasonalities. This is possible because under the hood, the math of seasonalities is based on Fourier transforms, which help incorporate this.\n",
        "* The Prophet uses a decomposable time series model with three main model components\n",
        "* They are combined in the following equation:\n",
        "        y(t)= g(t) + s(t) + h(t) + εt\n",
        "\n",
        "  **g(t):** piece wise linear or logistic growth curve for modeling non-periodic changes in time series (**trend**)\n",
        "\n",
        "  **s(t):** periodic changes (e.g. weekly/yearly **seasonality**)\n",
        "\n",
        "  **h(t):** effects of **holidays** (user provided) with irregular schedules\n",
        "\n",
        "  **εt:** **error term** accounts for any unusual changes not accommodated by the model."
      ],
      "metadata": {
        "id": "bPJ8KWI3Z7Yb"
      }
    },
    {
      "cell_type": "markdown",
      "source": [
        "### Import Prophet Library and Prepare Data"
      ],
      "metadata": {
        "id": "cPxOfVI-cNLB"
      }
    },
    {
      "cell_type": "code",
      "source": [
        "from prophet import Prophet"
      ],
      "metadata": {
        "id": "ClBqrxGsP4e9"
      },
      "execution_count": null,
      "outputs": []
    },
    {
      "cell_type": "code",
      "source": [
        "df = language.copy()\n",
        "df['campaign'] = exog\n",
        "df.reset_index(inplace=True)\n",
        "df.rename(columns={'index':'ds'}, inplace=True)"
      ],
      "metadata": {
        "id": "qJLDat8bP592"
      },
      "execution_count": null,
      "outputs": []
    },
    {
      "cell_type": "markdown",
      "source": [
        "### German Model"
      ],
      "metadata": {
        "id": "qDFqV8BPeVgc"
      }
    },
    {
      "cell_type": "code",
      "source": [
        "model_language = 'de'\n",
        "df['y'] = df[model_language]\n",
        "df1 = df[['ds','y','campaign']]\n",
        "model=Prophet(interval_width=0.95, yearly_seasonality=True, weekly_seasonality=True,\n",
        "               changepoint_prior_scale=4)\n",
        "model.add_regressor('campaign')\n",
        "model.fit(df[:train_threshold])\n",
        "forecast = model.predict(df)\n",
        "fig = model.plot(forecast)"
      ],
      "metadata": {
        "id": "O5iN0QyFX9nW"
      },
      "execution_count": null,
      "outputs": []
    },
    {
      "cell_type": "code",
      "source": [
        "print(f'Performance Score for {model_language} is:')\n",
        "performance(df1['y'],forecast['yhat'])\n",
        "plt.figure(figsize=(15, 5))\n",
        "plt.plot(forecast['ds'], forecast['yhat'],'-*', label = 'Predictions')\n",
        "plt.plot(df['ds'], df['y'], label = 'Actual')\n",
        "plt.xlim(pd.to_datetime('2017-01-01'), pd.to_datetime('2017-04-22'))\n",
        "for x in df.query('campaign==1')['ds']:\n",
        "    plt.axvline(x=x, color='red', alpha = 0.5);\n",
        "plt.xlim(pd.to_datetime('2016-08-01'), pd.to_datetime('2016-12-31'))\n",
        "plt.legend()"
      ],
      "metadata": {
        "id": "VeqcQTnkbork"
      },
      "execution_count": null,
      "outputs": []
    },
    {
      "cell_type": "markdown",
      "source": [
        "### English Model"
      ],
      "metadata": {
        "id": "bNZFw5-keZco"
      }
    },
    {
      "cell_type": "code",
      "source": [
        "model_language = 'en'\n",
        "df['y'] = df[model_language]\n",
        "df1 = df[['ds','y','campaign']]\n",
        "model=Prophet(interval_width=0.95, yearly_seasonality=True, weekly_seasonality=True,\n",
        "               changepoint_prior_scale=1)\n",
        "model.add_regressor('campaign')\n",
        "model.fit(df[:train_threshold])\n",
        "forecast = model.predict(df)\n",
        "fig = model.plot(forecast)"
      ],
      "metadata": {
        "id": "mOhiex4BeZc1"
      },
      "execution_count": null,
      "outputs": []
    },
    {
      "cell_type": "code",
      "source": [
        "print(f'Performance Score for {model_language} is:')\n",
        "performance(df1['y'],forecast['yhat'])\n",
        "plt.figure(figsize=(15, 5))\n",
        "plt.plot(forecast['ds'], forecast['yhat'],'-*', label = 'Predictions')\n",
        "plt.plot(df['ds'], df['y'], label = 'Actual')\n",
        "for x in df.query('campaign==1')['ds']:\n",
        "    plt.axvline(x=x, color='red', alpha = 0.5);\n",
        "plt.xlim(pd.to_datetime('2016-08-01'), pd.to_datetime('2016-12-31'))\n",
        "plt.legend()"
      ],
      "metadata": {
        "id": "pcYjU5w7eZc2"
      },
      "execution_count": null,
      "outputs": []
    },
    {
      "cell_type": "markdown",
      "source": [
        "### Spanish Model"
      ],
      "metadata": {
        "id": "X1eHgqo1eiNR"
      }
    },
    {
      "cell_type": "code",
      "source": [
        "model_language = 'es'\n",
        "df['y'] = df[model_language]\n",
        "df1 = df[['ds','y','campaign']]\n",
        "model=Prophet(interval_width=0.95, yearly_seasonality=True, weekly_seasonality=True,\n",
        "               changepoint_prior_scale=1)\n",
        "model.add_regressor('campaign')\n",
        "model.fit(df[:train_threshold])\n",
        "forecast = model.predict(df)\n",
        "fig = model.plot(forecast)"
      ],
      "metadata": {
        "id": "wn7rL8n5eiNb"
      },
      "execution_count": null,
      "outputs": []
    },
    {
      "cell_type": "code",
      "source": [
        "print(f'Performance Score for {model_language} is:')\n",
        "performance(df1['y'],forecast['yhat'])\n",
        "plt.figure(figsize=(15, 5))\n",
        "plt.plot(forecast['ds'], forecast['yhat'],'-*', label = 'Predictions')\n",
        "plt.plot(df['ds'], df['y'], label = 'Actual')\n",
        "for x in df.query('campaign==1')['ds']:\n",
        "    plt.axvline(x=x, color='red', alpha = 0.5);\n",
        "plt.xlim(pd.to_datetime('2016-08-01'), pd.to_datetime('2016-12-31'))\n",
        "plt.legend()"
      ],
      "metadata": {
        "id": "5cK4F5RIeiNc"
      },
      "execution_count": null,
      "outputs": []
    },
    {
      "cell_type": "markdown",
      "source": [
        "### French Model"
      ],
      "metadata": {
        "id": "ShpkJfqAelGA"
      }
    },
    {
      "cell_type": "code",
      "source": [
        "model_language = 'fr'\n",
        "df['y'] = df[model_language]\n",
        "df1 = df[['ds','y','campaign']]\n",
        "model=Prophet(interval_width=0.95, yearly_seasonality=True, weekly_seasonality=True,\n",
        "               changepoint_prior_scale=1)\n",
        "model.add_regressor('campaign')\n",
        "model.fit(df[:train_threshold])\n",
        "forecast = model.predict(df)\n",
        "fig = model.plot(forecast)"
      ],
      "metadata": {
        "id": "UJwQM9AIelGg"
      },
      "execution_count": null,
      "outputs": []
    },
    {
      "cell_type": "code",
      "source": [
        "print(f'Performance Score for {model_language} is:')\n",
        "performance(df1['y'],forecast['yhat'])\n",
        "plt.figure(figsize=(15, 5))\n",
        "plt.plot(forecast['ds'], forecast['yhat'],'-*', label = 'Predictions')\n",
        "plt.plot(df['ds'], df['y'], label = 'Actual')\n",
        "plt.xlim(pd.to_datetime('2017-01-01'), pd.to_datetime('2017-04-22'))\n",
        "for x in df.query('campaign==1')['ds']:\n",
        "    plt.axvline(x=x, color='red', alpha = 0.5);\n",
        "plt.xlim(pd.to_datetime('2016-08-01'), pd.to_datetime('2016-12-31'))\n",
        "plt.legend()"
      ],
      "metadata": {
        "id": "mHgN9f5VelGh"
      },
      "execution_count": null,
      "outputs": []
    },
    {
      "cell_type": "markdown",
      "source": [
        "### Japanese Model"
      ],
      "metadata": {
        "id": "qfvvTKisemmK"
      }
    },
    {
      "cell_type": "code",
      "source": [
        "model_language = 'ja'\n",
        "df['y'] = df[model_language]\n",
        "df1 = df[['ds','y','campaign']]\n",
        "model=Prophet(interval_width=0.95, yearly_seasonality=True, weekly_seasonality=True,\n",
        "               changepoint_prior_scale=1)\n",
        "model.add_regressor('campaign')\n",
        "model.fit(df[:train_threshold])\n",
        "forecast = model.predict(df)\n",
        "fig = model.plot(forecast)"
      ],
      "metadata": {
        "id": "wc2lNn4RemmV"
      },
      "execution_count": null,
      "outputs": []
    },
    {
      "cell_type": "code",
      "source": [
        "print(f'Performance Score for {model_language} is:')\n",
        "performance(df1['y'],forecast['yhat'])\n",
        "plt.figure(figsize=(15, 5))\n",
        "plt.plot(forecast['ds'], forecast['yhat'],'-*', label = 'Predictions')\n",
        "plt.plot(df['ds'], df['y'], label = 'Actual')\n",
        "plt.xlim(pd.to_datetime('2017-01-01'), pd.to_datetime('2017-04-22'))\n",
        "for x in df.query('campaign==1')['ds']:\n",
        "    plt.axvline(x=x, color='red', alpha = 0.5);\n",
        "plt.xlim(pd.to_datetime('2016-08-01'), pd.to_datetime('2016-12-31'))\n",
        "plt.legend()"
      ],
      "metadata": {
        "id": "xc_0kd8IemmW"
      },
      "execution_count": null,
      "outputs": []
    },
    {
      "cell_type": "markdown",
      "source": [
        "### Russian Model"
      ],
      "metadata": {
        "id": "yPmtiYtSevKq"
      }
    },
    {
      "cell_type": "code",
      "source": [
        "model_language = 'ru'\n",
        "df['y'] = df[model_language]\n",
        "df1 = df[['ds','y','campaign']]\n",
        "model=Prophet(interval_width=0.95, yearly_seasonality=True, weekly_seasonality=True,\n",
        "               changepoint_prior_scale=1)\n",
        "model.add_regressor('campaign')\n",
        "model.fit(df[:train_threshold])\n",
        "forecast = model.predict(df)\n",
        "fig = model.plot(forecast)"
      ],
      "metadata": {
        "id": "KLnC-ClsevKz"
      },
      "execution_count": null,
      "outputs": []
    },
    {
      "cell_type": "code",
      "source": [
        "print(f'Performance Score for {model_language} is:')\n",
        "performance(df1['y'],forecast['yhat'])\n",
        "plt.figure(figsize=(15, 5))\n",
        "plt.plot(forecast['ds'], forecast['yhat'],'-*', label = 'Predictions')\n",
        "plt.plot(df['ds'], df['y'], label = 'Actual')\n",
        "plt.xlim(pd.to_datetime('2017-01-01'), pd.to_datetime('2017-04-22'))\n",
        "for x in df.query('campaign==1')['ds']:\n",
        "    plt.axvline(x=x, color='red', alpha = 0.5);\n",
        "plt.xlim(pd.to_datetime('2016-08-01'), pd.to_datetime('2016-12-31'))\n",
        "plt.legend()"
      ],
      "metadata": {
        "id": "_vPkGYb0evK0"
      },
      "execution_count": null,
      "outputs": []
    },
    {
      "cell_type": "markdown",
      "source": [
        "### Chinese Model"
      ],
      "metadata": {
        "id": "v20RAmlQeyaz"
      }
    },
    {
      "cell_type": "code",
      "source": [
        "model_language = 'zh'\n",
        "df['y'] = df[model_language]\n",
        "df1 = df[['ds','y','campaign']]\n",
        "model=Prophet(interval_width=0.95, yearly_seasonality=True, weekly_seasonality=True,\n",
        "               changepoint_prior_scale=1)\n",
        "model.add_regressor('campaign')\n",
        "model.fit(df[:train_threshold])\n",
        "forecast = model.predict(df)\n",
        "fig = model.plot(forecast)"
      ],
      "metadata": {
        "id": "ZboKi64Qeya_"
      },
      "execution_count": null,
      "outputs": []
    },
    {
      "cell_type": "code",
      "source": [
        "print(f'Performance Score for {model_language} is:')\n",
        "performance(df1['y'],forecast['yhat'])\n",
        "plt.figure(figsize=(15, 5))\n",
        "plt.plot(forecast['ds'], forecast['yhat'],'-*', label = 'Predictions')\n",
        "plt.plot(df['ds'], df['y'], label = 'Actual')\n",
        "plt.xlim(pd.to_datetime('2017-01-01'), pd.to_datetime('2017-04-22'))\n",
        "for x in df.query('campaign==1')['ds']:\n",
        "    plt.axvline(x=x, color='red', alpha = 0.5);\n",
        "plt.xlim(pd.to_datetime('2016-08-01'), pd.to_datetime('2016-12-31'))\n",
        "plt.legend()"
      ],
      "metadata": {
        "id": "ZT4l43pueybA"
      },
      "execution_count": null,
      "outputs": []
    },
    {
      "cell_type": "markdown",
      "metadata": {
        "id": "e1ucpNhwsiE5"
      },
      "source": [
        "# Case Study Insights:"
      ]
    },
    {
      "cell_type": "markdown",
      "metadata": {
        "id": "cMuQTPW9DARK"
      },
      "source": [
        "**Problem Description**\n",
        "* We have total 145K wikipedia pages with pageviews for **550** days. Starting from **2015-07-01** to **2016-12-31**\n",
        "\n",
        "* There are 15455 pages in this dataset for which more than 30% of the data is missing. Those pages need to be dropped from the dataset. After dropping 129.6k pages are there to process further.\n",
        "\n",
        "* For remaining Null values following strategy is used for imputation\n",
        "  * Back-filling of initial null values\n",
        "  * Linear interpolation for null values in between actual values\n",
        "  * Forward-filling of tailing null values\n",
        "\n",
        "* Apart from top 7 languages other language pages are less than 100 in numbers and among 129.6k pages, consolidated 1109 (0.86%) pages which can be considered as outliers. These pages can be dropped. After dropping them 128.5k pages we have for model building.\n",
        "\n",
        "* List of Languages: [zh, fr, en, ru, de, ja, es]\n",
        "* List of Access Device: [all-access, desktop, mobile-web]\n",
        "* List of Traffic Origin: [spider, all-agents]"
      ]
    },
    {
      "cell_type": "markdown",
      "metadata": {
        "id": "IRojegbrYve7"
      },
      "source": [
        "**Insights from EDA**\n",
        "1. Among all the languages **_English_** have highest views and other languages have almost similar views\n",
        "2. Half of the views coming from **_all-access_** device and remaining half views are splitted between **_desktop_** and **_mobile_**\n",
        "3. 75% of web traffic is generated from **_all-agents_** origin followed by 25% from **_Spider_**\n",
        "4. Whenever there is campaign (1 in exogenous variable) overall web traffic is very high\n",
        "5. From hypothesis test it is evident that **language, access and origin** are not independent on each other"
      ]
    },
    {
      "cell_type": "markdown",
      "metadata": {
        "id": "2hdtFGc5ENO2"
      },
      "source": [
        "**Aggregating and Pivoting**\n",
        "* We have 128.5k pages after data processing and cleaning, and we cannot 128.5k build a individual forecasting model.\n",
        "* We have three options to aggregate data and aggregation method should be summing\n",
        "  * Language\n",
        "  * Access Device\n",
        "  * Traffic Origin\n",
        "\n",
        "* For this case study we will build a forecasting models based on languages"
      ]
    },
    {
      "cell_type": "markdown",
      "metadata": {
        "id": "SXh19qz6f1lM"
      },
      "source": [
        "**Insights from timeseries plot**\n",
        "\n",
        "All timeseries have seasonality of 7 days\n",
        "1. **German:** There are multiple trends (Up and Down) in this time series\n",
        "2. **English:** This is an increasing trend time series and very high count on campaign days (exogenous variable)\n",
        "3. **Spanish:** Additional seasonality is 6 months but no effect of campaign\n",
        "4. **French:** Initial 6 months is there is minor increasing trend but overall timeseries is stationary with very high values in month of April 2016\n",
        "5. **Japanese:** This timeseris having high variance with change point in January 2016\n",
        "6. **Russian:** Apart from effect of campaign between Mid-July to Mid-August 2016, this timeseries is stationary and variance is very low\n",
        "7. **Chinese:** This timeseries also have no effect of campaign"
      ]
    },
    {
      "cell_type": "markdown",
      "metadata": {
        "id": "bkeXTBXPHV5P"
      },
      "source": [
        "**Dickey Fuller test** for stationarity with 95% confidence interval\n",
        "\n",
        "Result of adfuller test is as below which matches with observation of timeseries plot too.\n",
        "* Detrending is done by 1 difference gives us stationary timeseries for non-stationary timeseries, whereas differencing for stationary timeseries is not requiired.\n",
        "* De-seasoning to be done by 7 as we have seasonality of 7 in our data.\n",
        "\n",
        "-|Before Detrending||After Detrending|-\n",
        "--|--|--|--|--\n",
        "**Timeseries**|**Stationarity**|**p-value**|**Stationarity**|**p-value**\n",
        "de|not stationary|0.130302922801|stationary|3.63472666E-10\n",
        "en|not stationary|0.132635979027|stationary|4.87926062E-13\n",
        "es|stationary|0.039148315767|stationary|0.037995918905\n",
        "fr|stationary|0.032074345937|stationary|0.027705575705\n",
        "ja|not stationary|0.061022041526|stationary|0.0\n",
        "ru|stationary|0.001661966259|stationary|0.001733881900\n",
        "zh|not stationary|0.188011855804|stationary|3.51291514E-11"
      ]
    },
    {
      "cell_type": "markdown",
      "metadata": {
        "id": "msK9jzSHbBmg"
      },
      "source": [
        "**Insights from ACF/PACF Plots**\n",
        "\n",
        "Language|ACF|PACF\n",
        "--|--|--\n",
        "German  |Cuts off after lag2            |Cuts off after lag 3\n",
        "\t      |MA(1)/MA(2) component present  |AR(1)/AR(2)/AR(3) component present\n",
        "English |Cut off at 1 only              |Cuts off at 1 only\n",
        "\t      |Max MA(1) component not present|Max AR(1) component present\n",
        "Spanish\t|Decaying upto lag 5\t\t\t      |Cuts off after lag 1\n",
        "\t      |MA(1)...MA(5) component present|AR(1) component presentv\n",
        "French\t|Decaying upto lag 4\t\t\t      |Cuts off after lag 1\n",
        "\t      |MA(1)...MA(4) component present|AR(1) component present\n",
        "Japanese|Cuts off after lag3            |Cuts off after lag 2\n",
        "\t      |MA(1) component present\t\t\t\t|AR(1)/AR(2) component present\n",
        "Russian\t|Decaying upto lag 5\t\t\t      |Cuts off after lag 2\n",
        "\t      |MA(1)...MA(5) component present|AR(1)/AR(2) component present\n",
        "Chinese |Cuts off after lag3            |Cuts off after lag 3\n",
        "\t      |MA(1)/MA(2)/MA(3) component present |AR(1)/AR(2)/AR(3) component present\n",
        "\n",
        "\n",
        "**Prelimnary estimate of Non-Seasonal Order from ACF/PACF charts**\n",
        "\n",
        "Language|AR(p)|integration(d)|MA(q)\n",
        "--|:--:|:--:|:--:\n",
        "**German:**|1,2|1|1,2\n",
        "**English:**|0,1|1|0,1\n",
        "**Spanish:**|1,2,3,4,5|0|1\n",
        "**French:**|1,2,3,4|0|1\n",
        "**Japanese:**|1,2,3,4,5,6|1|1,2\n",
        "**Russian:**|1,2,3,4,5|0|1,2\n",
        "**Chinese:**|1,2,3|1|1,2,3"
      ]
    },
    {
      "cell_type": "markdown",
      "source": [
        "**ARIMA Model** uses Autoregression, Moving Average and Integration of differenciated timeseries. We are getting stationary timeseries by difference of 1 in German, English, Japanese and Chinese. But for simplicity of modeling, we have differenciated all the timeseries by 1 so value of **`d=1`** shall be in all the models. Value of **`p`** and **`q`** already have been derived from ACF and PACF plots and with the help of grid search concept best fit ARIMA model parameters are as follows.\n",
        "\n",
        "**Language**|**(p,d,q)**|**MAPE**\n",
        "--|:--:|:--:\n",
        "**German:**|(2,1,3)|0.099|(1,1,2)|(1,0,1,7)|0.058\n",
        "**English:**|(0,1,0)|0.069|(4,1,2)|(1,0,1,7)|0.063\n",
        "**Spanish:**|(4,0,0)|0.138|(3,1,2)|(2,0,1,7)|0.315\n",
        "**French:**|(5,0,1)|0.073|(3,1,2)|(1,0,1,7)|0.071\n",
        "**Japanese:**|(2,0,1)|0.091|(6,1,1)|(3,0,1,7)|0.062\n",
        "**Russian:**|(1,1,1)|0.103|(1,1,1)|(3,0,1,7)|0.075\n",
        "**Chinese:**|(4,0,1)|0.062|(1,1,1)|(3,0,1,7)|0.063"
      ],
      "metadata": {
        "id": "eWZbk8Tyxbfq"
      }
    },
    {
      "cell_type": "markdown",
      "source": [
        "**SARIMAX Model** on the other hand consist of seasonal orders for Autoregression, Moving Average, Differenciation and Seasonality along with exogenous variable. With the help of SARIMAX model, MAPE score is improved for all the languages except Spanish. Which shows exogenous variable (campaigning) doesn't have impact on Spanish pageview timeseries. So final forecasting model for Spanish pageviewto be built without exogenous variable and others to be built with exogenous variable.\n",
        "\n",
        "\n",
        "ARIMA and SARIMAX hyper-parameter and MAPE score comparison.\n",
        "\n",
        "-|ARIMA|-|SARIMAX|-|-\n",
        "--|:--:|:--:|:--:|:--:|:--:\n",
        "**Language**|**(p,d,q)**|**MAPE**|**(p,d,q)**|**(P,D,Q,S)**|**MAPE**\n",
        "**German:**|(2,1,3)|0.099|(5,1,2)|(1,0,1,7)|0.053\n",
        "**English:**|(0,1,0)|0.069|(4,1,2)|(1,0,1,7)|0.063\n",
        "**Spanish:**|(4,0,0)|0.138|(5,0,1)|(2,0,1,7)|0.08\n",
        "**French:**|(5,0,1)|0.073|(3,1,2)|(1,0,1,7)|0.071\n",
        "**Japanese:**|(2,0,1)|0.091|(5,1,2)|(3,0,1,7)|0.062\n",
        "**Russian:**|(1,1,1)|0.103|(1,1,0)|(2,0,1,7)|0.074\n",
        "**Chinese:**|(4,0,1)|0.062|(1,1,1)|(3,0,1,7)|0.063"
      ],
      "metadata": {
        "id": "Ikrb0CQIkmH0"
      }
    },
    {
      "cell_type": "markdown",
      "source": [
        "**Prophet Library from facebook** slightly improves forecasting accuracy compared to SARIMAX Model but overall both models have similar performance.\n",
        "\n",
        "MAPE for each language model with Prophet modeling is as below.\n",
        "\n",
        "**Language**|**MAPE**\n",
        "--|:--:\n",
        "**German:**|0.047\n",
        "**English:**|0.042\n",
        "**Spanish:**|0.06\n",
        "**French:**|0.05\n",
        "**Japanese:**|0.062\n",
        "**Russian:**|0.094\n",
        "**Chinese:**|0.047"
      ],
      "metadata": {
        "id": "sanky29TfOKJ"
      }
    }
  ],
  "metadata": {
    "colab": {
      "collapsed_sections": [
        "sOs-su9maxVb",
        "w6jWZzJPrX_X",
        "7uOQ4emKrm5f",
        "Q8T0RXdGtiqx",
        "e1ucpNhwsiE5"
      ],
      "provenance": [],
      "authorship_tag": "ABX9TyO0eM0jNV+6JKn+enjSrY40",
      "include_colab_link": true
    },
    "kernelspec": {
      "display_name": "Python 3",
      "name": "python3"
    },
    "language_info": {
      "name": "python"
    }
  },
  "nbformat": 4,
  "nbformat_minor": 0
}